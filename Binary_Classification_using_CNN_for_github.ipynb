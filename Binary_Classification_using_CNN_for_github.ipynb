{
  "nbformat": 4,
  "nbformat_minor": 0,
  "metadata": {
    "accelerator": "GPU",
    "colab": {
      "name": "Binary Classification using CNN for github.ipynb",
      "provenance": [],
      "collapsed_sections": [
        "GUZ0vRlyRQjb",
        "a5AlYRiHYZPd",
        "plICv8E7hLH4",
        "zzzbcBOCgQaX",
        "cs7VTMjKxy8T",
        "FzgyCqQ49j83",
        "P0aCb0kM5ph4"
      ],
      "mount_file_id": "1vXdivTcOsZlLY4f8kycAtrxDXB3CQFSx",
      "authorship_tag": "ABX9TyMKJhZr3SzX0ZVn5alPLhCY",
      "include_colab_link": true
    },
    "kernelspec": {
      "display_name": "Python 3",
      "name": "python3"
    },
    "language_info": {
      "name": "python"
    }
  },
  "cells": [
    {
      "cell_type": "markdown",
      "metadata": {
        "id": "view-in-github",
        "colab_type": "text"
      },
      "source": [
        "<a href=\"https://colab.research.google.com/github/DrVishalChaudhary/_DeepLearningProjects/blob/main/Binary_Classification_using_CNN_for_github.ipynb\" target=\"_parent\"><img src=\"https://colab.research.google.com/assets/colab-badge.svg\" alt=\"Open In Colab\"/></a>"
      ]
    },
    {
      "cell_type": "markdown",
      "metadata": {
        "id": "GUZ0vRlyRQjb"
      },
      "source": [
        "# Binary Classification Problem: Supervised Learning\n",
        "\n",
        "* Classification between two classes; Cat and Dog\n",
        "\n",
        "* CNN model learn pattern of classes (Dog or Cat) during training \n",
        "\n",
        "* Accuracy depends on learning of model\n"
      ]
    },
    {
      "cell_type": "code",
      "metadata": {
        "id": "oG3MTUC1Qzbb"
      },
      "source": [
        "# Library Import\n",
        "\n",
        "import tensorflow as tf\n",
        "import numpy as np\n",
        "import matplotlib.pyplot as plt\n",
        "from matplotlib.image import imread\n",
        "import pandas as pd\n",
        "import os"
      ],
      "execution_count": null,
      "outputs": []
    },
    {
      "cell_type": "code",
      "metadata": {
        "id": "v3ZEFt8ET8kj"
      },
      "source": [
        "# Data path\n",
        "data_dir = \"/content/drive/MyDrive/Colab Notebooks/Cat Vs Dog\"\n",
        "\n",
        "train_data_path = data_dir + '/Train/'\n",
        "test_data_path = data_dir + '/Test/'"
      ],
      "execution_count": null,
      "outputs": []
    },
    {
      "cell_type": "code",
      "metadata": {
        "colab": {
          "base_uri": "https://localhost:8080/",
          "height": 35
        },
        "id": "0H_WJDawXiyt",
        "outputId": "546cfd52-c55d-4afd-ca09-953f34029a9f"
      },
      "source": [
        "train_data_path"
      ],
      "execution_count": null,
      "outputs": [
        {
          "output_type": "execute_result",
          "data": {
            "application/vnd.google.colaboratory.intrinsic+json": {
              "type": "string"
            },
            "text/plain": [
              "'/content/drive/MyDrive/Colab Notebooks/Cat Vs Dog/Train/'"
            ]
          },
          "metadata": {},
          "execution_count": 4
        }
      ]
    },
    {
      "cell_type": "code",
      "metadata": {
        "colab": {
          "base_uri": "https://localhost:8080/"
        },
        "id": "TUoJZ36aXrCV",
        "outputId": "570a2324-c5fe-4516-e9ba-2018b04da639"
      },
      "source": [
        "len(os.listdir(test_data_path))"
      ],
      "execution_count": null,
      "outputs": [
        {
          "output_type": "execute_result",
          "data": {
            "text/plain": [
              "2"
            ]
          },
          "metadata": {},
          "execution_count": 5
        }
      ]
    },
    {
      "cell_type": "markdown",
      "metadata": {
        "id": "a5AlYRiHYZPd"
      },
      "source": [
        "# Identifing Image size"
      ]
    },
    {
      "cell_type": "code",
      "metadata": {
        "colab": {
          "base_uri": "https://localhost:8080/"
        },
        "id": "oFdMEcrhXsAM",
        "outputId": "44f2720f-1438-4021-af6d-9f5e0e72bff2"
      },
      "source": [
        "!ls \"/content/drive/MyDrive/Colab Notebooks/Cat Vs Dog/Train/\""
      ],
      "execution_count": null,
      "outputs": [
        {
          "output_type": "stream",
          "name": "stdout",
          "text": [
            "Cat  Dog\n"
          ]
        }
      ]
    },
    {
      "cell_type": "code",
      "metadata": {
        "id": "XUDgo5n_YUVU"
      },
      "source": [
        "# Average dimension for Cat images\n",
        "first_dim = []\n",
        "second_dim = []\n",
        "for image_no in os.listdir(train_data_path + '/Cat'):\n",
        "  img = imread(train_data_path + '/Cat/'+ image_no)\n",
        "  d1,d2,d3 = img.shape\n",
        "  first_dim.append(d1)\n",
        "  second_dim.append(d2)"
      ],
      "execution_count": null,
      "outputs": []
    },
    {
      "cell_type": "code",
      "metadata": {
        "colab": {
          "base_uri": "https://localhost:8080/"
        },
        "id": "18W5LPtwYtLd",
        "outputId": "9874dc35-07e9-4cb1-a5bc-bff7504a3c98"
      },
      "source": [
        "first_dim_mean = np.mean(first_dim)\n",
        "second_dim_mean = np.mean(second_dim)\n",
        "first_dim_mean, second_dim_mean"
      ],
      "execution_count": null,
      "outputs": [
        {
          "data": {
            "text/plain": [
              "(357.7486548808609, 413.9631053036126)"
            ]
          },
          "execution_count": 7,
          "metadata": {},
          "output_type": "execute_result"
        }
      ]
    },
    {
      "cell_type": "code",
      "metadata": {
        "id": "0mn_z-7XYv5U"
      },
      "source": [
        "# Average dimension for Dog images\n",
        "first_dim1 = []\n",
        "second_dim1 = []\n",
        "for image_no in os.listdir(train_data_path + '/Dog'):\n",
        "  img = imread(train_data_path + '/Dog/'+ image_no)\n",
        "  d1,d2,d3 = img.shape\n",
        "  first_dim1.append(d1)\n",
        "  second_dim1.append(d2)"
      ],
      "execution_count": null,
      "outputs": []
    },
    {
      "cell_type": "code",
      "metadata": {
        "colab": {
          "base_uri": "https://localhost:8080/"
        },
        "id": "VcxJb7xiYyn0",
        "outputId": "3945a1e2-b243-41af-fcde-279b9947c299"
      },
      "source": [
        "first_dim1_mean = np.mean(first_dim1)\n",
        "second_dim1_mean = np.mean(second_dim1)\n",
        "first_dim1_mean, second_dim1_mean"
      ],
      "execution_count": null,
      "outputs": [
        {
          "data": {
            "text/plain": [
              "(364.63720215219064, 397.56879323597235)"
            ]
          },
          "execution_count": 9,
          "metadata": {},
          "output_type": "execute_result"
        }
      ]
    },
    {
      "cell_type": "code",
      "metadata": {
        "colab": {
          "base_uri": "https://localhost:8080/"
        },
        "id": "szAeAP8ifxvO",
        "outputId": "52b35955-ba7b-43c4-be8d-e29a31a4462e"
      },
      "source": [
        "# First dimension average value\n",
        "(358 + 364)/2"
      ],
      "execution_count": null,
      "outputs": [
        {
          "output_type": "execute_result",
          "data": {
            "text/plain": [
              "361.0"
            ]
          },
          "metadata": {},
          "execution_count": 7
        }
      ]
    },
    {
      "cell_type": "code",
      "metadata": {
        "colab": {
          "base_uri": "https://localhost:8080/"
        },
        "id": "f_OO87vzfz3X",
        "outputId": "98a32f17-5a0d-4e63-b50e-952c47164137"
      },
      "source": [
        "# Second dimension average value\n",
        "(414+399)/2"
      ],
      "execution_count": null,
      "outputs": [
        {
          "output_type": "execute_result",
          "data": {
            "text/plain": [
              "406.5"
            ]
          },
          "metadata": {},
          "execution_count": 8
        }
      ]
    },
    {
      "cell_type": "code",
      "metadata": {
        "id": "fJUSDtiDfrdm"
      },
      "source": [
        "input_shape = (361, 406, 3)"
      ],
      "execution_count": null,
      "outputs": []
    },
    {
      "cell_type": "markdown",
      "metadata": {
        "id": "plICv8E7hLH4"
      },
      "source": [
        "# Augmentation and Non-augmentation data\n",
        "\n",
        "* train_data and test_data: Non-augmented data\n",
        "\n",
        "* train_data_augmented and test_data_augmented: Augmented data"
      ]
    },
    {
      "cell_type": "code",
      "metadata": {
        "colab": {
          "base_uri": "https://localhost:8080/"
        },
        "id": "nRb_k6n6hJpf",
        "outputId": "19391ed5-471b-461a-a091-f96377ffee8c"
      },
      "source": [
        "#Train and Test data \n",
        "from tensorflow.keras.preprocessing.image import ImageDataGenerator\n",
        "\n",
        "train_datagen = ImageDataGenerator(rescale = 1/255.)\n",
        "test_datagen = ImageDataGenerator(rescale = 1/255.)\n",
        "\n",
        "train_data = train_datagen.flow_from_directory(train_data_path, target_size=(361, 406), batch_size=32, class_mode='binary')\n",
        "test_data = test_datagen.flow_from_directory(test_data_path, target_size=(361, 406), batch_size=32, class_mode='binary')"
      ],
      "execution_count": null,
      "outputs": [
        {
          "output_type": "stream",
          "name": "stdout",
          "text": [
            "Found 2602 images belonging to 2 classes.\n",
            "Found 400 images belonging to 2 classes.\n"
          ]
        }
      ]
    },
    {
      "cell_type": "code",
      "metadata": {
        "colab": {
          "base_uri": "https://localhost:8080/"
        },
        "id": "e66EMD_Zh_z_",
        "outputId": "73005f0f-9403-41b2-f394-85ff9b520dd2"
      },
      "source": [
        "# Train and Test data with augmentation\n",
        "from tensorflow.keras.preprocessing.image import ImageDataGenerator\n",
        "\n",
        "train_datagen_augmented = ImageDataGenerator(rescale = 1/255., rotation_range=0.2, shear_range=0.2, zoom_range=0.2, \n",
        "                                                    width_shift_range=0.2, height_shift_range=0.2, horizontal_flip=True)\n",
        "test_datagen_augmented = ImageDataGenerator(rescale = 1/255.)\n",
        "\n",
        "train_data_augmented = train_datagen_augmented.flow_from_directory(train_data_path, target_size=(361, 406), batch_size=32, class_mode='binary')\n",
        "test_data_augmented = test_datagen_augmented.flow_from_directory(test_data_path, target_size=(361, 406), batch_size=32, class_mode='binary')"
      ],
      "execution_count": null,
      "outputs": [
        {
          "output_type": "stream",
          "name": "stdout",
          "text": [
            "Found 2602 images belonging to 2 classes.\n",
            "Found 400 images belonging to 2 classes.\n"
          ]
        }
      ]
    },
    {
      "cell_type": "markdown",
      "metadata": {
        "id": "zzzbcBOCgQaX"
      },
      "source": [
        "# Model 1: 10, 16, 16\n",
        "\n",
        "* CNN filters: 10, 16, 16\n",
        "\n",
        "* Dense layers: 16, 1\n",
        "\n",
        "* Activation function: relu and sigmoid\n",
        "\n",
        "* Loss function: 'binary_crossentropy' due to binary class\n",
        "\n",
        "* Optimiser: Adam with default learning rate\n",
        "\n",
        "* Metric: Accuracy\n",
        "\n",
        "* No augmentation"
      ]
    },
    {
      "cell_type": "code",
      "metadata": {
        "colab": {
          "base_uri": "https://localhost:8080/"
        },
        "id": "lTDVwnlQhIAn",
        "outputId": "419375c2-6eba-4167-944f-443a6b37b6af"
      },
      "source": [
        "from tensorflow.keras.models import Sequential\n",
        "from tensorflow.keras.layers import Conv2D, MaxPool2D, Dense, Flatten\n",
        "\n",
        "tf.random.set_seed(42)\n",
        "\n",
        "model1 = Sequential()\n",
        "model1.add(Conv2D(10, 3, input_shape = input_shape, activation='relu'))\n",
        "model1.add(MaxPool2D())\n",
        "model1.add(Conv2D(16, 3, activation='relu'))\n",
        "model1.add(MaxPool2D())\n",
        "model1.add(Conv2D(16, 3, activation='relu'))\n",
        "model1.add(MaxPool2D())\n",
        "\n",
        "model1.add(Flatten())\n",
        "model1.add(Dense(16, activation = 'relu'))\n",
        "model1.add(Dense(1, activation='sigmoid'))\n",
        "\n",
        "model1.compile(loss = 'binary_crossentropy', optimizer= tf.keras.optimizers.Adam(), metrics= 'accuracy')\n",
        "\n",
        "model1.fit(train_data, epochs=20, steps_per_epoch=len(train_data), validation_data=test_data, validation_steps=len(test_data))"
      ],
      "execution_count": null,
      "outputs": [
        {
          "name": "stdout",
          "output_type": "stream",
          "text": [
            "Epoch 1/20\n",
            "82/82 [==============================] - 1334s 16s/step - loss: 0.6941 - accuracy: 0.5384 - val_loss: 0.6739 - val_accuracy: 0.5300\n",
            "Epoch 2/20\n",
            "82/82 [==============================] - 21s 250ms/step - loss: 0.6454 - accuracy: 0.6414 - val_loss: 0.6410 - val_accuracy: 0.6375\n",
            "Epoch 3/20\n",
            "82/82 [==============================] - 21s 250ms/step - loss: 0.5369 - accuracy: 0.7302 - val_loss: 0.6383 - val_accuracy: 0.6350\n",
            "Epoch 4/20\n",
            "82/82 [==============================] - 20s 247ms/step - loss: 0.4059 - accuracy: 0.8228 - val_loss: 0.6806 - val_accuracy: 0.6375\n",
            "Epoch 5/20\n",
            "82/82 [==============================] - 20s 245ms/step - loss: 0.2514 - accuracy: 0.8939 - val_loss: 0.8232 - val_accuracy: 0.6600\n",
            "Epoch 6/20\n",
            "82/82 [==============================] - 21s 250ms/step - loss: 0.1364 - accuracy: 0.9516 - val_loss: 1.1008 - val_accuracy: 0.6500\n",
            "Epoch 7/20\n",
            "82/82 [==============================] - 21s 250ms/step - loss: 0.0665 - accuracy: 0.9812 - val_loss: 1.4094 - val_accuracy: 0.6650\n",
            "Epoch 8/20\n",
            "82/82 [==============================] - 20s 248ms/step - loss: 0.0575 - accuracy: 0.9804 - val_loss: 1.3950 - val_accuracy: 0.6575\n",
            "Epoch 9/20\n",
            "82/82 [==============================] - 21s 253ms/step - loss: 0.0622 - accuracy: 0.9808 - val_loss: 1.7132 - val_accuracy: 0.6725\n",
            "Epoch 10/20\n",
            "82/82 [==============================] - 20s 248ms/step - loss: 0.0243 - accuracy: 0.9935 - val_loss: 1.8818 - val_accuracy: 0.6550\n",
            "Epoch 11/20\n",
            "82/82 [==============================] - 21s 249ms/step - loss: 0.0264 - accuracy: 0.9923 - val_loss: 2.2215 - val_accuracy: 0.6500\n",
            "Epoch 12/20\n",
            "82/82 [==============================] - 21s 250ms/step - loss: 0.0258 - accuracy: 0.9931 - val_loss: 2.3391 - val_accuracy: 0.6325\n",
            "Epoch 13/20\n",
            "82/82 [==============================] - 20s 247ms/step - loss: 0.0189 - accuracy: 0.9946 - val_loss: 2.3346 - val_accuracy: 0.6575\n",
            "Epoch 14/20\n",
            "82/82 [==============================] - 20s 246ms/step - loss: 0.0149 - accuracy: 0.9958 - val_loss: 2.9403 - val_accuracy: 0.6400\n",
            "Epoch 15/20\n",
            "82/82 [==============================] - 20s 246ms/step - loss: 0.0043 - accuracy: 0.9996 - val_loss: 2.8937 - val_accuracy: 0.6400\n",
            "Epoch 16/20\n",
            "82/82 [==============================] - 20s 246ms/step - loss: 0.0013 - accuracy: 1.0000 - val_loss: 3.0600 - val_accuracy: 0.6475\n",
            "Epoch 17/20\n",
            "82/82 [==============================] - 21s 255ms/step - loss: 6.4266e-04 - accuracy: 1.0000 - val_loss: 3.2123 - val_accuracy: 0.6400\n",
            "Epoch 18/20\n",
            "82/82 [==============================] - 21s 251ms/step - loss: 4.3511e-04 - accuracy: 1.0000 - val_loss: 3.3140 - val_accuracy: 0.6400\n",
            "Epoch 19/20\n",
            "82/82 [==============================] - 21s 253ms/step - loss: 3.2346e-04 - accuracy: 1.0000 - val_loss: 3.4070 - val_accuracy: 0.6425\n",
            "Epoch 20/20\n",
            "82/82 [==============================] - 20s 247ms/step - loss: 2.5170e-04 - accuracy: 1.0000 - val_loss: 3.4767 - val_accuracy: 0.6400\n"
          ]
        },
        {
          "data": {
            "text/plain": [
              "<keras.callbacks.History at 0x7fb714fa1a50>"
            ]
          },
          "execution_count": 11,
          "metadata": {},
          "output_type": "execute_result"
        }
      ]
    },
    {
      "cell_type": "code",
      "metadata": {
        "colab": {
          "base_uri": "https://localhost:8080/"
        },
        "id": "0_0_JMRClam6",
        "outputId": "50864dea-b43f-4e62-893a-195b203c356a"
      },
      "source": [
        "model1.summary()"
      ],
      "execution_count": null,
      "outputs": [
        {
          "name": "stdout",
          "output_type": "stream",
          "text": [
            "Model: \"sequential\"\n",
            "_________________________________________________________________\n",
            "Layer (type)                 Output Shape              Param #   \n",
            "=================================================================\n",
            "conv2d (Conv2D)              (None, 359, 404, 10)      280       \n",
            "_________________________________________________________________\n",
            "max_pooling2d (MaxPooling2D) (None, 179, 202, 10)      0         \n",
            "_________________________________________________________________\n",
            "conv2d_1 (Conv2D)            (None, 177, 200, 16)      1456      \n",
            "_________________________________________________________________\n",
            "max_pooling2d_1 (MaxPooling2 (None, 88, 100, 16)       0         \n",
            "_________________________________________________________________\n",
            "conv2d_2 (Conv2D)            (None, 86, 98, 16)        2320      \n",
            "_________________________________________________________________\n",
            "max_pooling2d_2 (MaxPooling2 (None, 43, 49, 16)        0         \n",
            "_________________________________________________________________\n",
            "flatten (Flatten)            (None, 33712)             0         \n",
            "_________________________________________________________________\n",
            "dense (Dense)                (None, 16)                539408    \n",
            "_________________________________________________________________\n",
            "dense_1 (Dense)              (None, 1)                 17        \n",
            "=================================================================\n",
            "Total params: 543,481\n",
            "Trainable params: 543,481\n",
            "Non-trainable params: 0\n",
            "_________________________________________________________________\n"
          ]
        }
      ]
    },
    {
      "cell_type": "code",
      "metadata": {
        "colab": {
          "base_uri": "https://localhost:8080/",
          "height": 609
        },
        "id": "UiRuIHGLxdwE",
        "outputId": "5c956a9f-27de-4f41-cb85-b860390d3b57"
      },
      "source": [
        "pd.DataFrame(model1.history.history).plot(figsize = (10,10))"
      ],
      "execution_count": null,
      "outputs": [
        {
          "data": {
            "text/plain": [
              "<matplotlib.axes._subplots.AxesSubplot at 0x7fb716820dd0>"
            ]
          },
          "execution_count": 13,
          "metadata": {},
          "output_type": "execute_result"
        },
        {
          "data": {
            "image/png": "[encoded data removed]",
            "text/plain": [
              "<Figure size 720x720 with 1 Axes>"
            ]
          },
          "metadata": {},
          "output_type": "display_data"
        }
      ]
    },
    {
      "cell_type": "code",
      "metadata": {
        "colab": {
          "base_uri": "https://localhost:8080/"
        },
        "id": "iisQKfLfxrQz",
        "outputId": "dbd3f1c6-d1a8-46f8-f4eb-48465c908045"
      },
      "source": [
        "model1.evaluate(test_data)"
      ],
      "execution_count": null,
      "outputs": [
        {
          "name": "stdout",
          "output_type": "stream",
          "text": [
            "13/13 [==============================] - 3s 193ms/step - loss: 3.4767 - accuracy: 0.6400\n"
          ]
        },
        {
          "data": {
            "text/plain": [
              "[3.4766664505004883, 0.6399999856948853]"
            ]
          },
          "execution_count": 14,
          "metadata": {},
          "output_type": "execute_result"
        }
      ]
    },
    {
      "cell_type": "markdown",
      "metadata": {
        "id": "cs7VTMjKxy8T"
      },
      "source": [
        "# Model 2: 10, 16, 16\n",
        "\n",
        "* CNN filters: 10, 16, 16\n",
        "\n",
        "* Dense layers: 16, 1\n",
        "\n",
        "* Activation function: relu and sigmoid\n",
        "\n",
        "* Loss function: 'binary_crossentropy' due to binary class\n",
        "\n",
        "* Optimiser: Adam with default learning rate\n",
        "\n",
        "* Metric: Accuracy\n",
        "\n",
        "* Augmentation"
      ]
    },
    {
      "cell_type": "code",
      "metadata": {
        "colab": {
          "background_save": true,
          "base_uri": "https://localhost:8080/"
        },
        "id": "TSECUsozxw-T",
        "outputId": "7578c2c4-2a1f-46f4-9049-19187eedc91d"
      },
      "source": [
        "from tensorflow.keras.models import Sequential\n",
        "from tensorflow.keras.layers import Conv2D, MaxPool2D, Dense, Flatten\n",
        "\n",
        "tf.random.set_seed(42)\n",
        "\n",
        "\n",
        "model2 = Sequential()\n",
        "model2.add(Conv2D(10, 3, input_shape = input_shape, activation='relu'))\n",
        "model2.add(MaxPool2D())\n",
        "model2.add(Conv2D(16, 3, activation='relu'))\n",
        "model2.add(MaxPool2D())\n",
        "model2.add(Conv2D(16, 3, activation='relu'))\n",
        "model2.add(MaxPool2D())\n",
        "\n",
        "model2.add(Flatten())\n",
        "model2.add(Dense(16, activation = 'relu'))\n",
        "model2.add(Dense(1, activation='sigmoid'))\n",
        "\n",
        "model2.compile(loss = 'binary_crossentropy', optimizer= tf.keras.optimizers.Adam(), metrics= 'accuracy')\n",
        "\n",
        "model2.fit(train_data_augmented, epochs=50, steps_per_epoch=len(train_data_augmented), validation_data=test_data_augmented, validation_steps=len(test_data_augmented))"
      ],
      "execution_count": null,
      "outputs": [
        {
          "name": "stdout",
          "output_type": "stream",
          "text": [
            "Epoch 1/50\n",
            "82/82 [==============================] - 93s 1s/step - loss: 0.6968 - accuracy: 0.5042 - val_loss: 0.6885 - val_accuracy: 0.5875\n",
            "Epoch 2/50\n",
            "82/82 [==============================] - 92s 1s/step - loss: 0.6925 - accuracy: 0.5288 - val_loss: 0.6914 - val_accuracy: 0.5050\n",
            "Epoch 3/50\n",
            "82/82 [==============================] - 92s 1s/step - loss: 0.6799 - accuracy: 0.5538 - val_loss: 0.6826 - val_accuracy: 0.5700\n",
            "Epoch 4/50\n",
            "82/82 [==============================] - 92s 1s/step - loss: 0.6926 - accuracy: 0.5065 - val_loss: 0.6867 - val_accuracy: 0.5025\n",
            "Epoch 5/50\n",
            "82/82 [==============================] - 93s 1s/step - loss: 0.6896 - accuracy: 0.5803 - val_loss: 0.6883 - val_accuracy: 0.6275\n",
            "Epoch 6/50\n",
            "82/82 [==============================] - 93s 1s/step - loss: 0.6922 - accuracy: 0.5638 - val_loss: 0.6692 - val_accuracy: 0.5600\n",
            "Epoch 7/50\n",
            "82/82 [==============================] - 95s 1s/step - loss: 0.6690 - accuracy: 0.5934 - val_loss: 0.6351 - val_accuracy: 0.6250\n",
            "Epoch 8/50\n",
            "82/82 [==============================] - 94s 1s/step - loss: 0.6488 - accuracy: 0.6264 - val_loss: 0.6153 - val_accuracy: 0.6550\n",
            "Epoch 9/50\n",
            "82/82 [==============================] - 92s 1s/step - loss: 0.6431 - accuracy: 0.6476 - val_loss: 0.5859 - val_accuracy: 0.6800\n",
            "Epoch 10/50\n",
            "82/82 [==============================] - 90s 1s/step - loss: 0.6617 - accuracy: 0.6261 - val_loss: 0.6215 - val_accuracy: 0.6550\n",
            "Epoch 11/50\n",
            "82/82 [==============================] - 92s 1s/step - loss: 0.6275 - accuracy: 0.6518 - val_loss: 0.5883 - val_accuracy: 0.6650\n",
            "Epoch 12/50\n",
            "82/82 [==============================] - 92s 1s/step - loss: 0.6183 - accuracy: 0.6587 - val_loss: 0.6004 - val_accuracy: 0.6725\n",
            "Epoch 13/50\n",
            "82/82 [==============================] - 91s 1s/step - loss: 0.6049 - accuracy: 0.6729 - val_loss: 0.5792 - val_accuracy: 0.6925\n",
            "Epoch 14/50\n",
            "82/82 [==============================] - 91s 1s/step - loss: 0.6113 - accuracy: 0.6668 - val_loss: 0.5664 - val_accuracy: 0.7025\n",
            "Epoch 15/50\n",
            "82/82 [==============================] - 91s 1s/step - loss: 0.5936 - accuracy: 0.6818 - val_loss: 0.5511 - val_accuracy: 0.7000\n",
            "Epoch 16/50\n",
            "82/82 [==============================] - 90s 1s/step - loss: 0.5731 - accuracy: 0.6975 - val_loss: 0.6441 - val_accuracy: 0.6825\n",
            "Epoch 17/50\n",
            "82/82 [==============================] - 90s 1s/step - loss: 0.5869 - accuracy: 0.6902 - val_loss: 0.5293 - val_accuracy: 0.7350\n",
            "Epoch 18/50\n",
            "82/82 [==============================] - 90s 1s/step - loss: 0.5795 - accuracy: 0.6922 - val_loss: 0.5245 - val_accuracy: 0.7675\n",
            "Epoch 19/50\n",
            "82/82 [==============================] - 91s 1s/step - loss: 0.5650 - accuracy: 0.7137 - val_loss: 0.5182 - val_accuracy: 0.7375\n",
            "Epoch 20/50\n",
            "82/82 [==============================] - 91s 1s/step - loss: 0.5592 - accuracy: 0.7145 - val_loss: 0.5343 - val_accuracy: 0.7200\n",
            "Epoch 21/50\n",
            "82/82 [==============================] - 90s 1s/step - loss: 0.5664 - accuracy: 0.7164 - val_loss: 0.4842 - val_accuracy: 0.7600\n",
            "Epoch 22/50\n",
            "82/82 [==============================] - 90s 1s/step - loss: 0.5521 - accuracy: 0.7214 - val_loss: 0.4877 - val_accuracy: 0.7800\n",
            "Epoch 23/50\n",
            "82/82 [==============================] - 90s 1s/step - loss: 0.5433 - accuracy: 0.7194 - val_loss: 0.4564 - val_accuracy: 0.8150\n",
            "Epoch 24/50\n",
            "82/82 [==============================] - 90s 1s/step - loss: 0.5435 - accuracy: 0.7198 - val_loss: 0.4717 - val_accuracy: 0.7650\n",
            "Epoch 25/50\n",
            "82/82 [==============================] - 91s 1s/step - loss: 0.5433 - accuracy: 0.7271 - val_loss: 0.4904 - val_accuracy: 0.7575\n",
            "Epoch 26/50\n",
            "82/82 [==============================] - 91s 1s/step - loss: 0.5254 - accuracy: 0.7310 - val_loss: 0.4554 - val_accuracy: 0.7700\n",
            "Epoch 27/50\n",
            "82/82 [==============================] - 91s 1s/step - loss: 0.5163 - accuracy: 0.7390 - val_loss: 0.4424 - val_accuracy: 0.7800\n",
            "Epoch 28/50\n",
            "82/82 [==============================] - 90s 1s/step - loss: 0.5205 - accuracy: 0.7348 - val_loss: 0.4498 - val_accuracy: 0.7725\n",
            "Epoch 29/50\n",
            "82/82 [==============================] - 91s 1s/step - loss: 0.5148 - accuracy: 0.7440 - val_loss: 0.4594 - val_accuracy: 0.7600\n",
            "Epoch 30/50\n",
            "82/82 [==============================] - 91s 1s/step - loss: 0.5053 - accuracy: 0.7552 - val_loss: 0.4134 - val_accuracy: 0.8000\n",
            "Epoch 31/50\n",
            "82/82 [==============================] - 92s 1s/step - loss: 0.5130 - accuracy: 0.7414 - val_loss: 0.4457 - val_accuracy: 0.7925\n",
            "Epoch 32/50\n",
            "82/82 [==============================] - 92s 1s/step - loss: 0.5069 - accuracy: 0.7521 - val_loss: 0.4319 - val_accuracy: 0.7925\n",
            "Epoch 33/50\n",
            "82/82 [==============================] - 92s 1s/step - loss: 0.5006 - accuracy: 0.7594 - val_loss: 0.4635 - val_accuracy: 0.7800\n",
            "Epoch 34/50\n",
            "82/82 [==============================] - 92s 1s/step - loss: 0.4931 - accuracy: 0.7640 - val_loss: 0.4197 - val_accuracy: 0.7850\n",
            "Epoch 35/50\n",
            "82/82 [==============================] - 92s 1s/step - loss: 0.4919 - accuracy: 0.7706 - val_loss: 0.4160 - val_accuracy: 0.7975\n",
            "Epoch 36/50\n",
            "82/82 [==============================] - 92s 1s/step - loss: 0.4977 - accuracy: 0.7533 - val_loss: 0.4724 - val_accuracy: 0.7650\n",
            "Epoch 37/50\n",
            "82/82 [==============================] - 92s 1s/step - loss: 0.4859 - accuracy: 0.7606 - val_loss: 0.4296 - val_accuracy: 0.8025\n",
            "Epoch 38/50\n",
            "82/82 [==============================] - 92s 1s/step - loss: 0.4919 - accuracy: 0.7633 - val_loss: 0.4059 - val_accuracy: 0.8125\n",
            "Epoch 39/50\n",
            "82/82 [==============================] - 92s 1s/step - loss: 0.4921 - accuracy: 0.7683 - val_loss: 0.4000 - val_accuracy: 0.8175\n",
            "Epoch 40/50\n",
            "82/82 [==============================] - 92s 1s/step - loss: 0.5038 - accuracy: 0.7521 - val_loss: 0.4040 - val_accuracy: 0.8200\n",
            "Epoch 41/50\n",
            "82/82 [==============================] - 92s 1s/step - loss: 0.4837 - accuracy: 0.7771 - val_loss: 0.3977 - val_accuracy: 0.8075\n",
            "Epoch 42/50\n",
            "82/82 [==============================] - 91s 1s/step - loss: 0.4775 - accuracy: 0.7756 - val_loss: 0.3884 - val_accuracy: 0.8075\n",
            "Epoch 43/50\n",
            "82/82 [==============================] - 91s 1s/step - loss: 0.4790 - accuracy: 0.7667 - val_loss: 0.4307 - val_accuracy: 0.8025\n",
            "Epoch 44/50\n",
            "82/82 [==============================] - 92s 1s/step - loss: 0.4784 - accuracy: 0.7690 - val_loss: 0.4096 - val_accuracy: 0.8000\n",
            "Epoch 45/50\n",
            "82/82 [==============================] - 93s 1s/step - loss: 0.4727 - accuracy: 0.7713 - val_loss: 0.3924 - val_accuracy: 0.8225\n",
            "Epoch 46/50\n",
            "82/82 [==============================] - 92s 1s/step - loss: 0.4870 - accuracy: 0.7617 - val_loss: 0.4113 - val_accuracy: 0.8200\n",
            "Epoch 47/50\n",
            "82/82 [==============================] - 93s 1s/step - loss: 0.4732 - accuracy: 0.7756 - val_loss: 0.4112 - val_accuracy: 0.7900\n",
            "Epoch 48/50\n",
            "82/82 [==============================] - 92s 1s/step - loss: 0.4676 - accuracy: 0.7821 - val_loss: 0.4108 - val_accuracy: 0.8125\n",
            "Epoch 49/50\n",
            "82/82 [==============================] - 91s 1s/step - loss: 0.4688 - accuracy: 0.7702 - val_loss: 0.4089 - val_accuracy: 0.7900\n",
            "Epoch 50/50\n",
            "82/82 [==============================] - 92s 1s/step - loss: 0.4516 - accuracy: 0.7752 - val_loss: 0.3992 - val_accuracy: 0.8075\n"
          ]
        },
        {
          "data": {
            "text/plain": [
              "<keras.callbacks.History at 0x7fb71612e4d0>"
            ]
          },
          "execution_count": null,
          "metadata": {},
          "output_type": "execute_result"
        }
      ]
    },
    {
      "cell_type": "code",
      "metadata": {
        "colab": {
          "base_uri": "https://localhost:8080/"
        },
        "id": "mCScOB7b5rxW",
        "outputId": "b035df3f-602c-475e-d812-bce8aaf0965e"
      },
      "source": [
        "model2.summary()"
      ],
      "execution_count": null,
      "outputs": [
        {
          "output_type": "stream",
          "name": "stdout",
          "text": [
            "Model: \"sequential_1\"\n",
            "_________________________________________________________________\n",
            "Layer (type)                 Output Shape              Param #   \n",
            "=================================================================\n",
            "conv2d_3 (Conv2D)            (None, 359, 404, 10)      280       \n",
            "_________________________________________________________________\n",
            "max_pooling2d_3 (MaxPooling2 (None, 179, 202, 10)      0         \n",
            "_________________________________________________________________\n",
            "conv2d_4 (Conv2D)            (None, 177, 200, 16)      1456      \n",
            "_________________________________________________________________\n",
            "max_pooling2d_4 (MaxPooling2 (None, 88, 100, 16)       0         \n",
            "_________________________________________________________________\n",
            "conv2d_5 (Conv2D)            (None, 86, 98, 16)        2320      \n",
            "_________________________________________________________________\n",
            "max_pooling2d_5 (MaxPooling2 (None, 43, 49, 16)        0         \n",
            "_________________________________________________________________\n",
            "flatten_1 (Flatten)          (None, 33712)             0         \n",
            "_________________________________________________________________\n",
            "dense_2 (Dense)              (None, 16)                539408    \n",
            "_________________________________________________________________\n",
            "dense_3 (Dense)              (None, 1)                 17        \n",
            "=================================================================\n",
            "Total params: 543,481\n",
            "Trainable params: 543,481\n",
            "Non-trainable params: 0\n",
            "_________________________________________________________________\n"
          ]
        }
      ]
    },
    {
      "cell_type": "code",
      "metadata": {
        "colab": {
          "base_uri": "https://localhost:8080/",
          "height": 609
        },
        "id": "y2ejENqU5t6d",
        "outputId": "8d15b6ac-a68a-498b-aa42-63e1d035475e"
      },
      "source": [
        "pd.DataFrame(model2.history.history).plot(figsize = (10,10))"
      ],
      "execution_count": null,
      "outputs": [
        {
          "output_type": "execute_result",
          "data": {
            "text/plain": [
              "<matplotlib.axes._subplots.AxesSubplot at 0x7fb6ce2fd810>"
            ]
          },
          "metadata": {},
          "execution_count": 18
        },
        {
          "output_type": "display_data",
          "data": {
            "image/png": "[encoded data removed]",
            "text/plain": [
              "<Figure size 720x720 with 1 Axes>"
            ]
          },
          "metadata": {
            "needs_background": "light"
          }
        }
      ]
    },
    {
      "cell_type": "code",
      "metadata": {
        "colab": {
          "base_uri": "https://localhost:8080/"
        },
        "id": "a59GQLXa51jV",
        "outputId": "53fb6f6b-00fb-43cc-c967-5697bb51bc67"
      },
      "source": [
        "model2.evaluate(test_data)"
      ],
      "execution_count": null,
      "outputs": [
        {
          "output_type": "stream",
          "name": "stdout",
          "text": [
            "13/13 [==============================] - 3s 195ms/step - loss: 0.3992 - accuracy: 0.8075\n"
          ]
        },
        {
          "output_type": "execute_result",
          "data": {
            "text/plain": [
              "[0.3992128074169159, 0.8075000047683716]"
            ]
          },
          "metadata": {},
          "execution_count": 19
        }
      ]
    },
    {
      "cell_type": "markdown",
      "metadata": {
        "id": "FzgyCqQ49j83"
      },
      "source": [
        "# Model 3: 10, 16, 16, 32\n",
        "\n",
        "* CNN filters: 10, 16, 32, 32\n",
        "\n",
        "* Dense layers: 16, 1\n",
        "\n",
        "* Activation function: relu and sigmoid\n",
        "\n",
        "* Loss function: 'binary_crossentropy' due to binary class\n",
        "\n",
        "* Optimiser: Adam with default learning rate\n",
        "\n",
        "* Metric: Accuracy\n",
        "\n",
        "* No Augmentation"
      ]
    },
    {
      "cell_type": "code",
      "metadata": {
        "colab": {
          "base_uri": "https://localhost:8080/"
        },
        "id": "idYtfC8-9ucN",
        "outputId": "7eb63a35-6f07-46f4-f5fb-e535608dc1a8"
      },
      "source": [
        "from tensorflow.keras.models import Sequential\n",
        "from tensorflow.keras.layers import Conv2D, MaxPool2D, Dense, Flatten\n",
        "\n",
        "tf.random.set_seed(42)\n",
        "\n",
        "model3 = Sequential()\n",
        "model3.add(Conv2D(10, 3, input_shape = input_shape, activation='relu'))\n",
        "model3.add(MaxPool2D())\n",
        "model3.add(Conv2D(16, 3, activation='relu'))\n",
        "model3.add(MaxPool2D())\n",
        "model3.add(Conv2D(32, 3, activation='relu'))\n",
        "model3.add(MaxPool2D())\n",
        "model3.add(Conv2D(32, 3, activation='relu'))\n",
        "model3.add(MaxPool2D())\n",
        "\n",
        "model3.add(Flatten())\n",
        "model3.add(Dense(32, activation = 'relu'))\n",
        "model3.add(Dense(1, activation='sigmoid'))\n",
        "\n",
        "model3.compile(loss = 'binary_crossentropy', optimizer= tf.keras.optimizers.Adam(), metrics= 'accuracy')\n",
        "\n",
        "model3.fit(train_data, epochs=50, steps_per_epoch=len(train_data), validation_data=test_data, validation_steps=len(test_data))"
      ],
      "execution_count": null,
      "outputs": [
        {
          "output_type": "stream",
          "name": "stdout",
          "text": [
            "Epoch 1/50\n",
            "82/82 [==============================] - 755s 9s/step - loss: 0.6917 - accuracy: 0.5284 - val_loss: 0.6634 - val_accuracy: 0.6150\n",
            "Epoch 2/50\n",
            "82/82 [==============================] - 22s 264ms/step - loss: 0.6459 - accuracy: 0.6299 - val_loss: 0.7005 - val_accuracy: 0.5800\n",
            "Epoch 3/50\n",
            "82/82 [==============================] - 22s 264ms/step - loss: 0.5871 - accuracy: 0.6849 - val_loss: 0.5445 - val_accuracy: 0.7200\n",
            "Epoch 4/50\n",
            "82/82 [==============================] - 21s 260ms/step - loss: 0.5262 - accuracy: 0.7421 - val_loss: 0.5769 - val_accuracy: 0.6975\n",
            "Epoch 5/50\n",
            "82/82 [==============================] - 21s 259ms/step - loss: 0.4740 - accuracy: 0.7813 - val_loss: 0.5328 - val_accuracy: 0.7375\n",
            "Epoch 6/50\n",
            "82/82 [==============================] - 21s 257ms/step - loss: 0.3915 - accuracy: 0.8209 - val_loss: 0.5335 - val_accuracy: 0.7625\n",
            "Epoch 7/50\n",
            "82/82 [==============================] - 21s 255ms/step - loss: 0.3323 - accuracy: 0.8597 - val_loss: 0.5993 - val_accuracy: 0.7225\n",
            "Epoch 8/50\n",
            "82/82 [==============================] - 21s 252ms/step - loss: 0.2761 - accuracy: 0.8885 - val_loss: 0.7308 - val_accuracy: 0.7325\n",
            "Epoch 9/50\n",
            "82/82 [==============================] - 21s 254ms/step - loss: 0.1692 - accuracy: 0.9370 - val_loss: 0.9201 - val_accuracy: 0.7100\n",
            "Epoch 10/50\n",
            "82/82 [==============================] - 21s 254ms/step - loss: 0.1151 - accuracy: 0.9531 - val_loss: 1.0474 - val_accuracy: 0.7075\n",
            "Epoch 11/50\n",
            "82/82 [==============================] - 21s 251ms/step - loss: 0.0528 - accuracy: 0.9816 - val_loss: 1.1414 - val_accuracy: 0.7375\n",
            "Epoch 12/50\n",
            "82/82 [==============================] - 21s 253ms/step - loss: 0.0222 - accuracy: 0.9965 - val_loss: 1.4227 - val_accuracy: 0.7425\n",
            "Epoch 13/50\n",
            "82/82 [==============================] - 21s 251ms/step - loss: 0.0080 - accuracy: 0.9981 - val_loss: 1.6531 - val_accuracy: 0.7250\n",
            "Epoch 14/50\n",
            "82/82 [==============================] - 20s 249ms/step - loss: 0.0032 - accuracy: 1.0000 - val_loss: 1.8178 - val_accuracy: 0.7325\n",
            "Epoch 15/50\n",
            "82/82 [==============================] - 20s 249ms/step - loss: 0.0013 - accuracy: 1.0000 - val_loss: 1.8756 - val_accuracy: 0.7325\n",
            "Epoch 16/50\n",
            "82/82 [==============================] - 20s 249ms/step - loss: 7.1412e-04 - accuracy: 1.0000 - val_loss: 1.9792 - val_accuracy: 0.7425\n",
            "Epoch 17/50\n",
            "82/82 [==============================] - 20s 249ms/step - loss: 4.7750e-04 - accuracy: 1.0000 - val_loss: 2.0622 - val_accuracy: 0.7375\n",
            "Epoch 18/50\n",
            "82/82 [==============================] - 20s 249ms/step - loss: 3.7176e-04 - accuracy: 1.0000 - val_loss: 2.1268 - val_accuracy: 0.7425\n",
            "Epoch 19/50\n",
            "82/82 [==============================] - 20s 249ms/step - loss: 3.0255e-04 - accuracy: 1.0000 - val_loss: 2.1738 - val_accuracy: 0.7375\n",
            "Epoch 20/50\n",
            "82/82 [==============================] - 21s 251ms/step - loss: 2.5197e-04 - accuracy: 1.0000 - val_loss: 2.2336 - val_accuracy: 0.7350\n",
            "Epoch 21/50\n",
            "82/82 [==============================] - 21s 251ms/step - loss: 2.0727e-04 - accuracy: 1.0000 - val_loss: 2.2692 - val_accuracy: 0.7350\n",
            "Epoch 22/50\n",
            "82/82 [==============================] - 20s 248ms/step - loss: 1.7959e-04 - accuracy: 1.0000 - val_loss: 2.3270 - val_accuracy: 0.7400\n",
            "Epoch 23/50\n",
            "82/82 [==============================] - 21s 253ms/step - loss: 1.5660e-04 - accuracy: 1.0000 - val_loss: 2.3476 - val_accuracy: 0.7375\n",
            "Epoch 24/50\n",
            "82/82 [==============================] - 21s 251ms/step - loss: 1.3952e-04 - accuracy: 1.0000 - val_loss: 2.3900 - val_accuracy: 0.7400\n",
            "Epoch 25/50\n",
            "82/82 [==============================] - 20s 249ms/step - loss: 1.2370e-04 - accuracy: 1.0000 - val_loss: 2.4272 - val_accuracy: 0.7450\n",
            "Epoch 26/50\n",
            "82/82 [==============================] - 21s 253ms/step - loss: 1.0834e-04 - accuracy: 1.0000 - val_loss: 2.4579 - val_accuracy: 0.7425\n",
            "Epoch 27/50\n",
            "82/82 [==============================] - 21s 251ms/step - loss: 9.6129e-05 - accuracy: 1.0000 - val_loss: 2.4922 - val_accuracy: 0.7425\n",
            "Epoch 28/50\n",
            "82/82 [==============================] - 21s 252ms/step - loss: 8.6738e-05 - accuracy: 1.0000 - val_loss: 2.5140 - val_accuracy: 0.7425\n",
            "Epoch 29/50\n",
            "82/82 [==============================] - 21s 252ms/step - loss: 8.0624e-05 - accuracy: 1.0000 - val_loss: 2.5464 - val_accuracy: 0.7425\n",
            "Epoch 30/50\n",
            "82/82 [==============================] - 21s 252ms/step - loss: 7.1630e-05 - accuracy: 1.0000 - val_loss: 2.5815 - val_accuracy: 0.7425\n",
            "Epoch 31/50\n",
            "82/82 [==============================] - 21s 253ms/step - loss: 6.5000e-05 - accuracy: 1.0000 - val_loss: 2.6025 - val_accuracy: 0.7425\n",
            "Epoch 32/50\n",
            "82/82 [==============================] - 22s 261ms/step - loss: 5.8887e-05 - accuracy: 1.0000 - val_loss: 2.6246 - val_accuracy: 0.7425\n",
            "Epoch 33/50\n",
            "82/82 [==============================] - 21s 256ms/step - loss: 5.4388e-05 - accuracy: 1.0000 - val_loss: 2.6553 - val_accuracy: 0.7450\n",
            "Epoch 34/50\n",
            "82/82 [==============================] - 21s 258ms/step - loss: 4.9858e-05 - accuracy: 1.0000 - val_loss: 2.6778 - val_accuracy: 0.7425\n",
            "Epoch 35/50\n",
            "82/82 [==============================] - 21s 250ms/step - loss: 4.5533e-05 - accuracy: 1.0000 - val_loss: 2.7085 - val_accuracy: 0.7425\n",
            "Epoch 36/50\n",
            "82/82 [==============================] - 21s 251ms/step - loss: 4.1990e-05 - accuracy: 1.0000 - val_loss: 2.7284 - val_accuracy: 0.7425\n",
            "Epoch 37/50\n",
            "82/82 [==============================] - 21s 251ms/step - loss: 3.8846e-05 - accuracy: 1.0000 - val_loss: 2.7499 - val_accuracy: 0.7400\n",
            "Epoch 38/50\n",
            "82/82 [==============================] - 21s 252ms/step - loss: 3.6113e-05 - accuracy: 1.0000 - val_loss: 2.7683 - val_accuracy: 0.7400\n",
            "Epoch 39/50\n",
            "82/82 [==============================] - 21s 256ms/step - loss: 3.3185e-05 - accuracy: 1.0000 - val_loss: 2.7894 - val_accuracy: 0.7400\n",
            "Epoch 40/50\n",
            "82/82 [==============================] - 21s 253ms/step - loss: 3.1171e-05 - accuracy: 1.0000 - val_loss: 2.8126 - val_accuracy: 0.7400\n",
            "Epoch 41/50\n",
            "82/82 [==============================] - 21s 252ms/step - loss: 2.9105e-05 - accuracy: 1.0000 - val_loss: 2.8337 - val_accuracy: 0.7400\n",
            "Epoch 42/50\n",
            "82/82 [==============================] - 21s 255ms/step - loss: 2.6966e-05 - accuracy: 1.0000 - val_loss: 2.8533 - val_accuracy: 0.7400\n",
            "Epoch 43/50\n",
            "82/82 [==============================] - 21s 258ms/step - loss: 2.4994e-05 - accuracy: 1.0000 - val_loss: 2.8752 - val_accuracy: 0.7400\n",
            "Epoch 44/50\n",
            "82/82 [==============================] - 21s 254ms/step - loss: 2.3345e-05 - accuracy: 1.0000 - val_loss: 2.8995 - val_accuracy: 0.7400\n",
            "Epoch 45/50\n",
            "82/82 [==============================] - 21s 256ms/step - loss: 2.1854e-05 - accuracy: 1.0000 - val_loss: 2.9107 - val_accuracy: 0.7375\n",
            "Epoch 46/50\n",
            "82/82 [==============================] - 21s 255ms/step - loss: 2.0381e-05 - accuracy: 1.0000 - val_loss: 2.9316 - val_accuracy: 0.7375\n",
            "Epoch 47/50\n",
            "82/82 [==============================] - 21s 260ms/step - loss: 1.9024e-05 - accuracy: 1.0000 - val_loss: 2.9527 - val_accuracy: 0.7375\n",
            "Epoch 48/50\n",
            "82/82 [==============================] - 21s 252ms/step - loss: 1.7780e-05 - accuracy: 1.0000 - val_loss: 2.9765 - val_accuracy: 0.7375\n",
            "Epoch 49/50\n",
            "82/82 [==============================] - 21s 254ms/step - loss: 1.6893e-05 - accuracy: 1.0000 - val_loss: 2.9915 - val_accuracy: 0.7475\n",
            "Epoch 50/50\n",
            "82/82 [==============================] - 21s 249ms/step - loss: 1.5673e-05 - accuracy: 1.0000 - val_loss: 3.0069 - val_accuracy: 0.7375\n"
          ]
        },
        {
          "output_type": "execute_result",
          "data": {
            "text/plain": [
              "<keras.callbacks.History at 0x7eff2017ebd0>"
            ]
          },
          "metadata": {},
          "execution_count": 13
        }
      ]
    },
    {
      "cell_type": "code",
      "metadata": {
        "colab": {
          "base_uri": "https://localhost:8080/"
        },
        "id": "0IBQnD9Y5Whn",
        "outputId": "620a540b-f77f-48c6-cb86-beb2010ed2f7"
      },
      "source": [
        "model3.summary()"
      ],
      "execution_count": null,
      "outputs": [
        {
          "output_type": "stream",
          "name": "stdout",
          "text": [
            "Model: \"sequential_1\"\n",
            "_________________________________________________________________\n",
            "Layer (type)                 Output Shape              Param #   \n",
            "=================================================================\n",
            "conv2d_4 (Conv2D)            (None, 359, 404, 10)      280       \n",
            "_________________________________________________________________\n",
            "max_pooling2d_4 (MaxPooling2 (None, 179, 202, 10)      0         \n",
            "_________________________________________________________________\n",
            "conv2d_5 (Conv2D)            (None, 177, 200, 16)      1456      \n",
            "_________________________________________________________________\n",
            "max_pooling2d_5 (MaxPooling2 (None, 88, 100, 16)       0         \n",
            "_________________________________________________________________\n",
            "conv2d_6 (Conv2D)            (None, 86, 98, 32)        4640      \n",
            "_________________________________________________________________\n",
            "max_pooling2d_6 (MaxPooling2 (None, 43, 49, 32)        0         \n",
            "_________________________________________________________________\n",
            "conv2d_7 (Conv2D)            (None, 41, 47, 32)        9248      \n",
            "_________________________________________________________________\n",
            "max_pooling2d_7 (MaxPooling2 (None, 20, 23, 32)        0         \n",
            "_________________________________________________________________\n",
            "flatten_1 (Flatten)          (None, 14720)             0         \n",
            "_________________________________________________________________\n",
            "dense_2 (Dense)              (None, 32)                471072    \n",
            "_________________________________________________________________\n",
            "dense_3 (Dense)              (None, 1)                 33        \n",
            "=================================================================\n",
            "Total params: 486,729\n",
            "Trainable params: 486,729\n",
            "Non-trainable params: 0\n",
            "_________________________________________________________________\n"
          ]
        }
      ]
    },
    {
      "cell_type": "code",
      "metadata": {
        "colab": {
          "base_uri": "https://localhost:8080/",
          "height": 609
        },
        "id": "HkI9wbSB5dKP",
        "outputId": "e56de519-bd16-46cb-d2bb-9acd6e399b57"
      },
      "source": [
        "pd.DataFrame(model3.history.history).plot(figsize = (10,10))"
      ],
      "execution_count": null,
      "outputs": [
        {
          "output_type": "execute_result",
          "data": {
            "text/plain": [
              "<matplotlib.axes._subplots.AxesSubplot at 0x7efee7f8e610>"
            ]
          },
          "metadata": {},
          "execution_count": 15
        },
        {
          "output_type": "display_data",
          "data": {
            "image/png": "[encoded data removed]",
            "text/plain": [
              "<Figure size 720x720 with 1 Axes>"
            ]
          },
          "metadata": {
            "needs_background": "light"
          }
        }
      ]
    },
    {
      "cell_type": "code",
      "metadata": {
        "colab": {
          "base_uri": "https://localhost:8080/"
        },
        "id": "O0AYSFtxDy4x",
        "outputId": "89244d9f-d25e-4497-9f7d-2619f4683765"
      },
      "source": [
        "model3.evaluate(test_data)"
      ],
      "execution_count": null,
      "outputs": [
        {
          "output_type": "stream",
          "name": "stdout",
          "text": [
            "13/13 [==============================] - 3s 198ms/step - loss: 3.0069 - accuracy: 0.7375\n"
          ]
        },
        {
          "output_type": "execute_result",
          "data": {
            "text/plain": [
              "[3.0069119930267334, 0.737500011920929]"
            ]
          },
          "metadata": {},
          "execution_count": 16
        }
      ]
    },
    {
      "cell_type": "markdown",
      "metadata": {
        "id": "P0aCb0kM5ph4"
      },
      "source": [
        "# Model 4: 10, 16, 32, 32\n",
        "\n",
        "* CNN filters: 10, 16, 16, 32\n",
        "\n",
        "* Dense layers: 16, 1\n",
        "\n",
        "* Activation function: relu and sigmoid\n",
        "\n",
        "* Loss function: 'binary_crossentropy' due to binary class\n",
        "\n",
        "* Optimiser: Adam with default learning rate\n",
        "\n",
        "* Metric: Accuracy\n",
        "\n",
        "* Augmentation"
      ]
    },
    {
      "cell_type": "code",
      "metadata": {
        "colab": {
          "base_uri": "https://localhost:8080/"
        },
        "id": "mR_LWooz5T_v",
        "outputId": "b3507441-b713-4501-f123-ab722ad1428e"
      },
      "source": [
        "from tensorflow.keras.models import Sequential\n",
        "from tensorflow.keras.layers import Conv2D, MaxPool2D, Dense, Flatten\n",
        "\n",
        "tf.random.set_seed(42)\n",
        "\n",
        "model4 = Sequential()\n",
        "model4.add(Conv2D(10, 3, input_shape = input_shape, activation='relu'))\n",
        "model4.add(MaxPool2D())\n",
        "model4.add(Conv2D(16, 3, activation='relu'))\n",
        "model4.add(MaxPool2D())\n",
        "model4.add(Conv2D(32, 3, activation='relu'))\n",
        "model4.add(MaxPool2D())\n",
        "model4.add(Conv2D(32, 3, activation='relu'))\n",
        "model4.add(MaxPool2D())\n",
        "\n",
        "model4.add(Flatten())\n",
        "model4.add(Dense(32, activation = 'relu'))\n",
        "model4.add(Dense(1, activation='sigmoid'))\n",
        "\n",
        "model4.compile(loss = 'binary_crossentropy', optimizer= tf.keras.optimizers.Adam(), metrics= 'accuracy')\n",
        "\n",
        "model4.fit(train_data_augmented, epochs=50, steps_per_epoch=len(train_data_augmented), validation_data=test_data_augmented, validation_steps=len(test_data_augmented))"
      ],
      "execution_count": null,
      "outputs": [
        {
          "output_type": "stream",
          "name": "stdout",
          "text": [
            "Epoch 1/50\n",
            "82/82 [==============================] - 92s 1s/step - loss: 0.6906 - accuracy: 0.5338 - val_loss: 0.6614 - val_accuracy: 0.5750\n",
            "Epoch 2/50\n",
            "82/82 [==============================] - 91s 1s/step - loss: 0.6893 - accuracy: 0.5496 - val_loss: 0.6658 - val_accuracy: 0.6300\n",
            "Epoch 3/50\n",
            "82/82 [==============================] - 91s 1s/step - loss: 0.6675 - accuracy: 0.6122 - val_loss: 0.7119 - val_accuracy: 0.5150\n",
            "Epoch 4/50\n",
            "82/82 [==============================] - 92s 1s/step - loss: 0.6479 - accuracy: 0.6234 - val_loss: 0.6036 - val_accuracy: 0.6650\n",
            "Epoch 5/50\n",
            "82/82 [==============================] - 92s 1s/step - loss: 0.6441 - accuracy: 0.6368 - val_loss: 0.5921 - val_accuracy: 0.7250\n",
            "Epoch 6/50\n",
            "82/82 [==============================] - 92s 1s/step - loss: 0.5985 - accuracy: 0.6910 - val_loss: 0.5735 - val_accuracy: 0.6700\n",
            "Epoch 7/50\n",
            "82/82 [==============================] - 92s 1s/step - loss: 0.5998 - accuracy: 0.6718 - val_loss: 0.5526 - val_accuracy: 0.7250\n",
            "Epoch 8/50\n",
            "82/82 [==============================] - 92s 1s/step - loss: 0.5969 - accuracy: 0.6802 - val_loss: 0.5885 - val_accuracy: 0.6725\n",
            "Epoch 9/50\n",
            "82/82 [==============================] - 92s 1s/step - loss: 0.5629 - accuracy: 0.7048 - val_loss: 0.5519 - val_accuracy: 0.7125\n",
            "Epoch 10/50\n",
            "82/82 [==============================] - 93s 1s/step - loss: 0.5640 - accuracy: 0.6949 - val_loss: 0.5683 - val_accuracy: 0.6775\n",
            "Epoch 11/50\n",
            "82/82 [==============================] - 94s 1s/step - loss: 0.5638 - accuracy: 0.7045 - val_loss: 0.4904 - val_accuracy: 0.7450\n",
            "Epoch 12/50\n",
            "82/82 [==============================] - 93s 1s/step - loss: 0.5350 - accuracy: 0.7248 - val_loss: 0.5094 - val_accuracy: 0.7425\n",
            "Epoch 13/50\n",
            "82/82 [==============================] - 93s 1s/step - loss: 0.5514 - accuracy: 0.7152 - val_loss: 0.5722 - val_accuracy: 0.6900\n",
            "Epoch 14/50\n",
            "82/82 [==============================] - 93s 1s/step - loss: 0.5341 - accuracy: 0.7310 - val_loss: 0.4970 - val_accuracy: 0.7500\n",
            "Epoch 15/50\n",
            "82/82 [==============================] - 93s 1s/step - loss: 0.5541 - accuracy: 0.7229 - val_loss: 0.4960 - val_accuracy: 0.7675\n",
            "Epoch 16/50\n",
            "82/82 [==============================] - 92s 1s/step - loss: 0.5202 - accuracy: 0.7298 - val_loss: 0.4842 - val_accuracy: 0.7675\n",
            "Epoch 17/50\n",
            "82/82 [==============================] - 93s 1s/step - loss: 0.5245 - accuracy: 0.7394 - val_loss: 0.4557 - val_accuracy: 0.7775\n",
            "Epoch 18/50\n",
            "82/82 [==============================] - 93s 1s/step - loss: 0.5143 - accuracy: 0.7475 - val_loss: 0.4728 - val_accuracy: 0.7775\n",
            "Epoch 19/50\n",
            "82/82 [==============================] - 94s 1s/step - loss: 0.5291 - accuracy: 0.7341 - val_loss: 0.4387 - val_accuracy: 0.7975\n",
            "Epoch 20/50\n",
            "82/82 [==============================] - 94s 1s/step - loss: 0.5208 - accuracy: 0.7433 - val_loss: 0.4672 - val_accuracy: 0.7625\n",
            "Epoch 21/50\n",
            "82/82 [==============================] - 93s 1s/step - loss: 0.5176 - accuracy: 0.7433 - val_loss: 0.5413 - val_accuracy: 0.7075\n",
            "Epoch 22/50\n",
            "82/82 [==============================] - 93s 1s/step - loss: 0.5070 - accuracy: 0.7440 - val_loss: 0.4729 - val_accuracy: 0.7950\n",
            "Epoch 23/50\n",
            "82/82 [==============================] - 93s 1s/step - loss: 0.4957 - accuracy: 0.7590 - val_loss: 0.4446 - val_accuracy: 0.7850\n",
            "Epoch 24/50\n",
            "82/82 [==============================] - 93s 1s/step - loss: 0.4756 - accuracy: 0.7679 - val_loss: 0.4446 - val_accuracy: 0.7700\n",
            "Epoch 25/50\n",
            "82/82 [==============================] - 92s 1s/step - loss: 0.4677 - accuracy: 0.7721 - val_loss: 0.4203 - val_accuracy: 0.7800\n",
            "Epoch 26/50\n",
            "82/82 [==============================] - 92s 1s/step - loss: 0.4755 - accuracy: 0.7790 - val_loss: 0.4137 - val_accuracy: 0.8150\n",
            "Epoch 27/50\n",
            "82/82 [==============================] - 92s 1s/step - loss: 0.4696 - accuracy: 0.7706 - val_loss: 0.4066 - val_accuracy: 0.8200\n",
            "Epoch 28/50\n",
            "82/82 [==============================] - 92s 1s/step - loss: 0.4786 - accuracy: 0.7686 - val_loss: 0.3953 - val_accuracy: 0.8475\n",
            "Epoch 29/50\n",
            "82/82 [==============================] - 93s 1s/step - loss: 0.4683 - accuracy: 0.7782 - val_loss: 0.4352 - val_accuracy: 0.7900\n",
            "Epoch 30/50\n",
            "82/82 [==============================] - 92s 1s/step - loss: 0.4770 - accuracy: 0.7752 - val_loss: 0.4187 - val_accuracy: 0.7975\n",
            "Epoch 31/50\n",
            "82/82 [==============================] - 92s 1s/step - loss: 0.4653 - accuracy: 0.7794 - val_loss: 0.4451 - val_accuracy: 0.7925\n",
            "Epoch 32/50\n",
            "82/82 [==============================] - 92s 1s/step - loss: 0.4660 - accuracy: 0.7775 - val_loss: 0.4104 - val_accuracy: 0.8075\n",
            "Epoch 33/50\n",
            "82/82 [==============================] - 92s 1s/step - loss: 0.4529 - accuracy: 0.7890 - val_loss: 0.3744 - val_accuracy: 0.8250\n",
            "Epoch 34/50\n",
            "82/82 [==============================] - 93s 1s/step - loss: 0.4563 - accuracy: 0.7840 - val_loss: 0.3621 - val_accuracy: 0.8450\n",
            "Epoch 35/50\n",
            "82/82 [==============================] - 92s 1s/step - loss: 0.4568 - accuracy: 0.7817 - val_loss: 0.4025 - val_accuracy: 0.7900\n",
            "Epoch 36/50\n",
            "82/82 [==============================] - 93s 1s/step - loss: 0.4415 - accuracy: 0.7902 - val_loss: 0.3684 - val_accuracy: 0.8450\n",
            "Epoch 37/50\n",
            "82/82 [==============================] - 92s 1s/step - loss: 0.4373 - accuracy: 0.7986 - val_loss: 0.3774 - val_accuracy: 0.8450\n",
            "Epoch 38/50\n",
            "82/82 [==============================] - 92s 1s/step - loss: 0.4398 - accuracy: 0.7971 - val_loss: 0.4297 - val_accuracy: 0.8050\n",
            "Epoch 39/50\n",
            "82/82 [==============================] - 92s 1s/step - loss: 0.4293 - accuracy: 0.7902 - val_loss: 0.3619 - val_accuracy: 0.8600\n",
            "Epoch 40/50\n",
            "82/82 [==============================] - 93s 1s/step - loss: 0.4157 - accuracy: 0.8163 - val_loss: 0.3972 - val_accuracy: 0.8300\n",
            "Epoch 41/50\n",
            "82/82 [==============================] - 92s 1s/step - loss: 0.4184 - accuracy: 0.8082 - val_loss: 0.4138 - val_accuracy: 0.8225\n",
            "Epoch 42/50\n",
            "82/82 [==============================] - 92s 1s/step - loss: 0.4235 - accuracy: 0.8040 - val_loss: 0.3852 - val_accuracy: 0.8375\n",
            "Epoch 43/50\n",
            "82/82 [==============================] - 93s 1s/step - loss: 0.4205 - accuracy: 0.8021 - val_loss: 0.3896 - val_accuracy: 0.8225\n",
            "Epoch 44/50\n",
            "82/82 [==============================] - 92s 1s/step - loss: 0.4225 - accuracy: 0.8036 - val_loss: 0.3642 - val_accuracy: 0.8450\n",
            "Epoch 45/50\n",
            "82/82 [==============================] - 94s 1s/step - loss: 0.4139 - accuracy: 0.8098 - val_loss: 0.3692 - val_accuracy: 0.8300\n",
            "Epoch 46/50\n",
            "82/82 [==============================] - 93s 1s/step - loss: 0.4102 - accuracy: 0.8105 - val_loss: 0.3623 - val_accuracy: 0.8375\n",
            "Epoch 47/50\n",
            "82/82 [==============================] - 92s 1s/step - loss: 0.4106 - accuracy: 0.8128 - val_loss: 0.4160 - val_accuracy: 0.7925\n",
            "Epoch 48/50\n",
            "82/82 [==============================] - 92s 1s/step - loss: 0.4027 - accuracy: 0.8171 - val_loss: 0.3922 - val_accuracy: 0.8300\n",
            "Epoch 49/50\n",
            "82/82 [==============================] - 92s 1s/step - loss: 0.3936 - accuracy: 0.8271 - val_loss: 0.4174 - val_accuracy: 0.8100\n",
            "Epoch 50/50\n",
            "82/82 [==============================] - 93s 1s/step - loss: 0.4080 - accuracy: 0.8098 - val_loss: 0.3533 - val_accuracy: 0.8450\n"
          ]
        },
        {
          "output_type": "execute_result",
          "data": {
            "text/plain": [
              "<keras.callbacks.History at 0x7fb6cdfc1cd0>"
            ]
          },
          "metadata": {},
          "execution_count": 23
        }
      ]
    },
    {
      "cell_type": "code",
      "metadata": {
        "colab": {
          "base_uri": "https://localhost:8080/"
        },
        "id": "NKFBHZ5dPXn-",
        "outputId": "772f3570-a6f8-43da-fa4a-4833d9caf088"
      },
      "source": [
        "model4.summary()"
      ],
      "execution_count": null,
      "outputs": [
        {
          "output_type": "stream",
          "name": "stdout",
          "text": [
            "Model: \"sequential_3\"\n",
            "_________________________________________________________________\n",
            "Layer (type)                 Output Shape              Param #   \n",
            "=================================================================\n",
            "conv2d_10 (Conv2D)           (None, 359, 404, 10)      280       \n",
            "_________________________________________________________________\n",
            "max_pooling2d_10 (MaxPooling (None, 179, 202, 10)      0         \n",
            "_________________________________________________________________\n",
            "conv2d_11 (Conv2D)           (None, 177, 200, 16)      1456      \n",
            "_________________________________________________________________\n",
            "max_pooling2d_11 (MaxPooling (None, 88, 100, 16)       0         \n",
            "_________________________________________________________________\n",
            "conv2d_12 (Conv2D)           (None, 86, 98, 32)        4640      \n",
            "_________________________________________________________________\n",
            "max_pooling2d_12 (MaxPooling (None, 43, 49, 32)        0         \n",
            "_________________________________________________________________\n",
            "conv2d_13 (Conv2D)           (None, 41, 47, 32)        9248      \n",
            "_________________________________________________________________\n",
            "max_pooling2d_13 (MaxPooling (None, 20, 23, 32)        0         \n",
            "_________________________________________________________________\n",
            "flatten_3 (Flatten)          (None, 14720)             0         \n",
            "_________________________________________________________________\n",
            "dense_6 (Dense)              (None, 32)                471072    \n",
            "_________________________________________________________________\n",
            "dense_7 (Dense)              (None, 1)                 33        \n",
            "=================================================================\n",
            "Total params: 486,729\n",
            "Trainable params: 486,729\n",
            "Non-trainable params: 0\n",
            "_________________________________________________________________\n"
          ]
        }
      ]
    },
    {
      "cell_type": "code",
      "metadata": {
        "colab": {
          "base_uri": "https://localhost:8080/",
          "height": 609
        },
        "id": "dG5oeqj6Pfdl",
        "outputId": "931387b5-22f3-49a1-a715-a1c31e1ffe43"
      },
      "source": [
        "pd.DataFrame(model4.history.history).plot(figsize = (10,10))"
      ],
      "execution_count": null,
      "outputs": [
        {
          "output_type": "execute_result",
          "data": {
            "text/plain": [
              "<matplotlib.axes._subplots.AxesSubplot at 0x7fb6ce02e410>"
            ]
          },
          "metadata": {},
          "execution_count": 25
        },
        {
          "output_type": "display_data",
          "data": {
            "image/png": "[encoded data removed]",
            "text/plain": [
              "<Figure size 720x720 with 1 Axes>"
            ]
          },
          "metadata": {
            "needs_background": "light"
          }
        }
      ]
    },
    {
      "cell_type": "code",
      "metadata": {
        "colab": {
          "base_uri": "https://localhost:8080/"
        },
        "id": "RnBPCmTYPm2V",
        "outputId": "b726166b-856d-4453-e55e-729b29a911d6"
      },
      "source": [
        "model4.evaluate(test_data)"
      ],
      "execution_count": null,
      "outputs": [
        {
          "output_type": "stream",
          "name": "stdout",
          "text": [
            "13/13 [==============================] - 3s 194ms/step - loss: 0.3533 - accuracy: 0.8450\n"
          ]
        },
        {
          "output_type": "execute_result",
          "data": {
            "text/plain": [
              "[0.35325175523757935, 0.8450000286102295]"
            ]
          },
          "metadata": {},
          "execution_count": 27
        }
      ]
    }
  ]
}