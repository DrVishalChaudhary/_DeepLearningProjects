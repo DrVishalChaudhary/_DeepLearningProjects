{
  "nbformat": 4,
  "nbformat_minor": 0,
  "metadata": {
    "colab": {
      "name": "Regression using ANN for github.ipynb",
      "provenance": [],
      "collapsed_sections": [
        "KOruiEY9KoTg",
        "AX6evgwwref9",
        "6poeGslOuMOu",
        "2Y28falI1UJ_"
      ],
      "authorship_tag": "ABX9TyPNeuktFTt6Km8xvgMosUp/",
      "include_colab_link": true
    },
    "kernelspec": {
      "name": "python3",
      "display_name": "Python 3"
    },
    "language_info": {
      "name": "python"
    }
  },
  "cells": [
    {
      "cell_type": "markdown",
      "metadata": {
        "id": "view-in-github",
        "colab_type": "text"
      },
      "source": [
        "<a href=\"https://colab.research.google.com/github/DrVishalChaudhary/_DeepLearningProjects/blob/main/Regression_using_ANN_for_github.ipynb\" target=\"_parent\"><img src=\"https://colab.research.google.com/assets/colab-badge.svg\" alt=\"Open In Colab\"/></a>"
      ]
    },
    {
      "cell_type": "markdown",
      "metadata": {
        "id": "KOruiEY9KoTg"
      },
      "source": [
        "#Regression Problem: \n",
        " \n",
        "*   ANN model learns the relationship between dependent and independent   variable by optimizing the weights\n",
        "\n",
        "*   The learned model later predict the new output on given new input\n",
        "\n",
        "*   The accuracy of model depends on learning of model\n",
        "\n",
        "      **Regression equation:** Y = 10*x\n",
        "\n",
        "# Two models are used for the said problem\n",
        "\n",
        "*   Model1: Two dense layers\n",
        "\n",
        "*   Model2: Three dense layers"
      ]
    },
    {
      "cell_type": "code",
      "metadata": {
        "id": "LognCR_2nB6J"
      },
      "source": [
        "# Library import\n",
        "\n",
        "import tensorflow as tf\n",
        "import numpy as np\n",
        "import matplotlib.pyplot as plt"
      ],
      "execution_count": null,
      "outputs": []
    },
    {
      "cell_type": "code",
      "metadata": {
        "colab": {
          "base_uri": "https://localhost:8080/"
        },
        "id": "9aBeWi4Tnoxc",
        "outputId": "14987bf0-8434-4eaa-89e3-00b379e80042"
      },
      "source": [
        "#Data generation with equation Y = x*10\n",
        "X = np.arange(-500, 500, 4)\n",
        "y = x*10\n",
        "X, y"
      ],
      "execution_count": null,
      "outputs": [
        {
          "output_type": "execute_result",
          "data": {
            "text/plain": [
              "(array([-500, -496, -492, -488, -484, -480, -476, -472, -468, -464, -460,\n",
              "        -456, -452, -448, -444, -440, -436, -432, -428, -424, -420, -416,\n",
              "        -412, -408, -404, -400, -396, -392, -388, -384, -380, -376, -372,\n",
              "        -368, -364, -360, -356, -352, -348, -344, -340, -336, -332, -328,\n",
              "        -324, -320, -316, -312, -308, -304, -300, -296, -292, -288, -284,\n",
              "        -280, -276, -272, -268, -264, -260, -256, -252, -248, -244, -240,\n",
              "        -236, -232, -228, -224, -220, -216, -212, -208, -204, -200, -196,\n",
              "        -192, -188, -184, -180, -176, -172, -168, -164, -160, -156, -152,\n",
              "        -148, -144, -140, -136, -132, -128, -124, -120, -116, -112, -108,\n",
              "        -104, -100,  -96,  -92,  -88,  -84,  -80,  -76,  -72,  -68,  -64,\n",
              "         -60,  -56,  -52,  -48,  -44,  -40,  -36,  -32,  -28,  -24,  -20,\n",
              "         -16,  -12,   -8,   -4,    0,    4,    8,   12,   16,   20,   24,\n",
              "          28,   32,   36,   40,   44,   48,   52,   56,   60,   64,   68,\n",
              "          72,   76,   80,   84,   88,   92,   96,  100,  104,  108,  112,\n",
              "         116,  120,  124,  128,  132,  136,  140,  144,  148,  152,  156,\n",
              "         160,  164,  168,  172,  176,  180,  184,  188,  192,  196,  200,\n",
              "         204,  208,  212,  216,  220,  224,  228,  232,  236,  240,  244,\n",
              "         248,  252,  256,  260,  264,  268,  272,  276,  280,  284,  288,\n",
              "         292,  296,  300,  304,  308,  312,  316,  320,  324,  328,  332,\n",
              "         336,  340,  344,  348,  352,  356,  360,  364,  368,  372,  376,\n",
              "         380,  384,  388,  392,  396,  400,  404,  408,  412,  416,  420,\n",
              "         424,  428,  432,  436,  440,  444,  448,  452,  456,  460,  464,\n",
              "         468,  472,  476,  480,  484,  488,  492,  496]),\n",
              " array([-5000, -4960, -4920, -4880, -4840, -4800, -4760, -4720, -4680,\n",
              "        -4640, -4600, -4560, -4520, -4480, -4440, -4400, -4360, -4320,\n",
              "        -4280, -4240, -4200, -4160, -4120, -4080, -4040, -4000, -3960,\n",
              "        -3920, -3880, -3840, -3800, -3760, -3720, -3680, -3640, -3600,\n",
              "        -3560, -3520, -3480, -3440, -3400, -3360, -3320, -3280, -3240,\n",
              "        -3200, -3160, -3120, -3080, -3040, -3000, -2960, -2920, -2880,\n",
              "        -2840, -2800, -2760, -2720, -2680, -2640, -2600, -2560, -2520,\n",
              "        -2480, -2440, -2400, -2360, -2320, -2280, -2240, -2200, -2160,\n",
              "        -2120, -2080, -2040, -2000, -1960, -1920, -1880, -1840, -1800,\n",
              "        -1760, -1720, -1680, -1640, -1600, -1560, -1520, -1480, -1440,\n",
              "        -1400, -1360, -1320, -1280, -1240, -1200, -1160, -1120, -1080,\n",
              "        -1040, -1000,  -960,  -920,  -880,  -840,  -800,  -760,  -720,\n",
              "         -680,  -640,  -600,  -560,  -520,  -480,  -440,  -400,  -360,\n",
              "         -320,  -280,  -240,  -200,  -160,  -120,   -80,   -40,     0,\n",
              "           40,    80,   120,   160,   200,   240,   280,   320,   360,\n",
              "          400,   440,   480,   520,   560,   600,   640,   680,   720,\n",
              "          760,   800,   840,   880,   920,   960,  1000,  1040,  1080,\n",
              "         1120,  1160,  1200,  1240,  1280,  1320,  1360,  1400,  1440,\n",
              "         1480,  1520,  1560,  1600,  1640,  1680,  1720,  1760,  1800,\n",
              "         1840,  1880,  1920,  1960,  2000,  2040,  2080,  2120,  2160,\n",
              "         2200,  2240,  2280,  2320,  2360,  2400,  2440,  2480,  2520,\n",
              "         2560,  2600,  2640,  2680,  2720,  2760,  2800,  2840,  2880,\n",
              "         2920,  2960,  3000,  3040,  3080,  3120,  3160,  3200,  3240,\n",
              "         3280,  3320,  3360,  3400,  3440,  3480,  3520,  3560,  3600,\n",
              "         3640,  3680,  3720,  3760,  3800,  3840,  3880,  3920,  3960,\n",
              "         4000,  4040,  4080,  4120,  4160,  4200,  4240,  4280,  4320,\n",
              "         4360,  4400,  4440,  4480,  4520,  4560,  4600,  4640,  4680,\n",
              "         4720,  4760,  4800,  4840,  4880,  4920,  4960]))"
            ]
          },
          "metadata": {},
          "execution_count": 5
        }
      ]
    },
    {
      "cell_type": "code",
      "metadata": {
        "colab": {
          "base_uri": "https://localhost:8080/"
        },
        "id": "MZcZl9qwoBRG",
        "outputId": "929614ac-6c6b-4815-fada-aef1c42c322a"
      },
      "source": [
        "len(X), len(y)"
      ],
      "execution_count": null,
      "outputs": [
        {
          "output_type": "execute_result",
          "data": {
            "text/plain": [
              "(250, 250)"
            ]
          },
          "metadata": {},
          "execution_count": 7
        }
      ]
    },
    {
      "cell_type": "markdown",
      "metadata": {
        "id": "AX6evgwwref9"
      },
      "source": [
        "# Train and Test data\n",
        "\n",
        "Train data@80% = 200, \n",
        "Test data@20% = 50"
      ]
    },
    {
      "cell_type": "code",
      "metadata": {
        "id": "W9Sq5uLWqhpO",
        "colab": {
          "base_uri": "https://localhost:8080/"
        },
        "outputId": "7e4d677d-a812-49fd-cc3b-e8f7b2bbdbe3"
      },
      "source": [
        "X_train = X[:200]\n",
        "y_train = y[:200]\n",
        "\n",
        "X_test = X[200:]\n",
        "y_test = y[200:]\n",
        "\n",
        "len(X_train), len(y_train), len(X_test), len(y_test)"
      ],
      "execution_count": null,
      "outputs": [
        {
          "output_type": "execute_result",
          "data": {
            "text/plain": [
              "(200, 200, 50, 50)"
            ]
          },
          "metadata": {},
          "execution_count": 8
        }
      ]
    },
    {
      "cell_type": "code",
      "metadata": {
        "colab": {
          "base_uri": "https://localhost:8080/",
          "height": 445
        },
        "id": "tUy5hBM5sPaW",
        "outputId": "f6559cda-b821-4cce-a1a1-c52a123a6dae"
      },
      "source": [
        "plt.figure(figsize = (10,7))\n",
        "plt.scatter(X_train, y_train)\n",
        "plt.scatter(X_test, y_test, c = 'r')"
      ],
      "execution_count": null,
      "outputs": [
        {
          "output_type": "execute_result",
          "data": {
            "text/plain": [
              "<matplotlib.collections.PathCollection at 0x7f06b1920d50>"
            ]
          },
          "metadata": {},
          "execution_count": 9
        },
        {
          "output_type": "display_data",
          "data": {
            "image/png": "[encoded data removed]",
            "text/plain": [
              "<Figure size 720x504 with 1 Axes>"
            ]
          },
          "metadata": {
            "needs_background": "light"
          }
        }
      ]
    },
    {
      "cell_type": "markdown",
      "metadata": {
        "id": "6poeGslOuMOu"
      },
      "source": [
        "# Model 1\n",
        "\n",
        "*   Two Dense layers with 10, 1 neurons respectively\n",
        "\n",
        "*   Loss: mae (mean absolute error)\n",
        "\n",
        "*   Optimizer: Adam with default learning rate\n"
      ]
    },
    {
      "cell_type": "code",
      "metadata": {
        "colab": {
          "base_uri": "https://localhost:8080/"
        },
        "id": "9gvWUPEwtO5W",
        "outputId": "405014fd-bbf9-4518-add9-c0dfdaa3978f"
      },
      "source": [
        "# Import model and layers\n",
        "\n",
        "from tensorflow.keras.models import Sequential\n",
        "from tensorflow.keras.layers import Dense\n",
        "\n",
        "tf.random.set_seed(42)\n",
        "\n",
        "model1 = Sequential()\n",
        "model1.add(Dense(10))\n",
        "model1.add(Dense(1))\n",
        "\n",
        "model1.compile(loss = tf.keras.losses.mae, optimizer = tf.keras.optimizers.Adam(), metrics=('mae'))\n",
        "\n",
        "model1.fit(X_train, y_train, epochs=100)"
      ],
      "execution_count": null,
      "outputs": [
        {
          "output_type": "stream",
          "text": [
            "Epoch 1/100\n",
            "7/7 [==============================] - 1s 2ms/step - loss: 2046.9202 - mae: 2046.9202\n",
            "Epoch 2/100\n",
            "7/7 [==============================] - 0s 2ms/step - loss: 2036.7997 - mae: 2036.7997\n",
            "Epoch 3/100\n",
            "7/7 [==============================] - 0s 2ms/step - loss: 2026.4979 - mae: 2026.4979\n",
            "Epoch 4/100\n",
            "7/7 [==============================] - 0s 1ms/step - loss: 2016.1196 - mae: 2016.1196\n",
            "Epoch 5/100\n",
            "7/7 [==============================] - 0s 1ms/step - loss: 2005.4900 - mae: 2005.4900\n",
            "Epoch 6/100\n",
            "7/7 [==============================] - 0s 2ms/step - loss: 1995.2047 - mae: 1995.2047\n",
            "Epoch 7/100\n",
            "7/7 [==============================] - 0s 2ms/step - loss: 1984.3486 - mae: 1984.3486\n",
            "Epoch 8/100\n",
            "7/7 [==============================] - 0s 2ms/step - loss: 1973.5336 - mae: 1973.5336\n",
            "Epoch 9/100\n",
            "7/7 [==============================] - 0s 2ms/step - loss: 1962.1489 - mae: 1962.1489\n",
            "Epoch 10/100\n",
            "7/7 [==============================] - 0s 2ms/step - loss: 1951.0079 - mae: 1951.0079\n",
            "Epoch 11/100\n",
            "7/7 [==============================] - 0s 2ms/step - loss: 1939.4420 - mae: 1939.4420\n",
            "Epoch 12/100\n",
            "7/7 [==============================] - 0s 2ms/step - loss: 1927.5978 - mae: 1927.5978\n",
            "Epoch 13/100\n",
            "7/7 [==============================] - 0s 2ms/step - loss: 1915.7280 - mae: 1915.7280\n",
            "Epoch 14/100\n",
            "7/7 [==============================] - 0s 2ms/step - loss: 1903.6262 - mae: 1903.6262\n",
            "Epoch 15/100\n",
            "7/7 [==============================] - 0s 2ms/step - loss: 1891.0707 - mae: 1891.0707\n",
            "Epoch 16/100\n",
            "7/7 [==============================] - 0s 1ms/step - loss: 1878.4006 - mae: 1878.4006\n",
            "Epoch 17/100\n",
            "7/7 [==============================] - 0s 1ms/step - loss: 1865.4503 - mae: 1865.4503\n",
            "Epoch 18/100\n",
            "7/7 [==============================] - 0s 1ms/step - loss: 1852.4047 - mae: 1852.4047\n",
            "Epoch 19/100\n",
            "7/7 [==============================] - 0s 2ms/step - loss: 1838.7026 - mae: 1838.7026\n",
            "Epoch 20/100\n",
            "7/7 [==============================] - 0s 2ms/step - loss: 1824.9189 - mae: 1824.9189\n",
            "Epoch 21/100\n",
            "7/7 [==============================] - 0s 2ms/step - loss: 1810.7716 - mae: 1810.7716\n",
            "Epoch 22/100\n",
            "7/7 [==============================] - 0s 2ms/step - loss: 1796.4644 - mae: 1796.4644\n",
            "Epoch 23/100\n",
            "7/7 [==============================] - 0s 2ms/step - loss: 1781.6725 - mae: 1781.6725\n",
            "Epoch 24/100\n",
            "7/7 [==============================] - 0s 2ms/step - loss: 1767.0017 - mae: 1767.0017\n",
            "Epoch 25/100\n",
            "7/7 [==============================] - 0s 2ms/step - loss: 1752.3754 - mae: 1752.3754\n",
            "Epoch 26/100\n",
            "7/7 [==============================] - 0s 2ms/step - loss: 1736.6094 - mae: 1736.6094\n",
            "Epoch 27/100\n",
            "7/7 [==============================] - 0s 2ms/step - loss: 1720.9926 - mae: 1720.9926\n",
            "Epoch 28/100\n",
            "7/7 [==============================] - 0s 2ms/step - loss: 1705.0201 - mae: 1705.0201\n",
            "Epoch 29/100\n",
            "7/7 [==============================] - 0s 2ms/step - loss: 1688.5984 - mae: 1688.5984\n",
            "Epoch 30/100\n",
            "7/7 [==============================] - 0s 2ms/step - loss: 1672.0095 - mae: 1672.0095\n",
            "Epoch 31/100\n",
            "7/7 [==============================] - 0s 2ms/step - loss: 1654.7411 - mae: 1654.7411\n",
            "Epoch 32/100\n",
            "7/7 [==============================] - 0s 2ms/step - loss: 1636.7803 - mae: 1636.7803\n",
            "Epoch 33/100\n",
            "7/7 [==============================] - 0s 2ms/step - loss: 1619.1418 - mae: 1619.1418\n",
            "Epoch 34/100\n",
            "7/7 [==============================] - 0s 1ms/step - loss: 1600.6898 - mae: 1600.6898\n",
            "Epoch 35/100\n",
            "7/7 [==============================] - 0s 2ms/step - loss: 1582.6090 - mae: 1582.6090\n",
            "Epoch 36/100\n",
            "7/7 [==============================] - 0s 2ms/step - loss: 1563.7942 - mae: 1563.7942\n",
            "Epoch 37/100\n",
            "7/7 [==============================] - 0s 2ms/step - loss: 1544.9410 - mae: 1544.9410\n",
            "Epoch 38/100\n",
            "7/7 [==============================] - 0s 2ms/step - loss: 1525.1379 - mae: 1525.1379\n",
            "Epoch 39/100\n",
            "7/7 [==============================] - 0s 2ms/step - loss: 1505.4489 - mae: 1505.4489\n",
            "Epoch 40/100\n",
            "7/7 [==============================] - 0s 2ms/step - loss: 1485.1217 - mae: 1485.1217\n",
            "Epoch 41/100\n",
            "7/7 [==============================] - 0s 2ms/step - loss: 1464.0947 - mae: 1464.0947\n",
            "Epoch 42/100\n",
            "7/7 [==============================] - 0s 2ms/step - loss: 1443.5571 - mae: 1443.5571\n",
            "Epoch 43/100\n",
            "7/7 [==============================] - 0s 2ms/step - loss: 1421.7617 - mae: 1421.7617\n",
            "Epoch 44/100\n",
            "7/7 [==============================] - 0s 2ms/step - loss: 1400.3567 - mae: 1400.3567\n",
            "Epoch 45/100\n",
            "7/7 [==============================] - 0s 2ms/step - loss: 1378.5021 - mae: 1378.5021\n",
            "Epoch 46/100\n",
            "7/7 [==============================] - 0s 2ms/step - loss: 1356.1226 - mae: 1356.1226\n",
            "Epoch 47/100\n",
            "7/7 [==============================] - 0s 2ms/step - loss: 1333.0203 - mae: 1333.0203\n",
            "Epoch 48/100\n",
            "7/7 [==============================] - 0s 2ms/step - loss: 1309.9717 - mae: 1309.9717\n",
            "Epoch 49/100\n",
            "7/7 [==============================] - 0s 2ms/step - loss: 1285.6868 - mae: 1285.6868\n",
            "Epoch 50/100\n",
            "7/7 [==============================] - 0s 2ms/step - loss: 1261.3262 - mae: 1261.3262\n",
            "Epoch 51/100\n",
            "7/7 [==============================] - 0s 2ms/step - loss: 1236.9120 - mae: 1236.9120\n",
            "Epoch 52/100\n",
            "7/7 [==============================] - 0s 2ms/step - loss: 1211.6117 - mae: 1211.6117\n",
            "Epoch 53/100\n",
            "7/7 [==============================] - 0s 2ms/step - loss: 1186.2109 - mae: 1186.2109\n",
            "Epoch 54/100\n",
            "7/7 [==============================] - 0s 2ms/step - loss: 1160.8660 - mae: 1160.8660\n",
            "Epoch 55/100\n",
            "7/7 [==============================] - 0s 2ms/step - loss: 1135.0013 - mae: 1135.0013\n",
            "Epoch 56/100\n",
            "7/7 [==============================] - 0s 2ms/step - loss: 1108.3740 - mae: 1108.3740\n",
            "Epoch 57/100\n",
            "7/7 [==============================] - 0s 2ms/step - loss: 1081.5096 - mae: 1081.5096\n",
            "Epoch 58/100\n",
            "7/7 [==============================] - 0s 2ms/step - loss: 1054.0576 - mae: 1054.0576\n",
            "Epoch 59/100\n",
            "7/7 [==============================] - 0s 3ms/step - loss: 1025.2039 - mae: 1025.2039\n",
            "Epoch 60/100\n",
            "7/7 [==============================] - 0s 2ms/step - loss: 996.9201 - mae: 996.9201\n",
            "Epoch 61/100\n",
            "7/7 [==============================] - 0s 2ms/step - loss: 967.3929 - mae: 967.3929\n",
            "Epoch 62/100\n",
            "7/7 [==============================] - 0s 2ms/step - loss: 936.5363 - mae: 936.5363\n",
            "Epoch 63/100\n",
            "7/7 [==============================] - 0s 2ms/step - loss: 907.0659 - mae: 907.0659\n",
            "Epoch 64/100\n",
            "7/7 [==============================] - 0s 2ms/step - loss: 875.8854 - mae: 875.8854\n",
            "Epoch 65/100\n",
            "7/7 [==============================] - 0s 2ms/step - loss: 845.1624 - mae: 845.1624\n",
            "Epoch 66/100\n",
            "7/7 [==============================] - 0s 2ms/step - loss: 814.0293 - mae: 814.0293\n",
            "Epoch 67/100\n",
            "7/7 [==============================] - 0s 2ms/step - loss: 782.6710 - mae: 782.6710\n",
            "Epoch 68/100\n",
            "7/7 [==============================] - 0s 2ms/step - loss: 750.1646 - mae: 750.1646\n",
            "Epoch 69/100\n",
            "7/7 [==============================] - 0s 2ms/step - loss: 717.6251 - mae: 717.6251\n",
            "Epoch 70/100\n",
            "7/7 [==============================] - 0s 2ms/step - loss: 684.5209 - mae: 684.5209\n",
            "Epoch 71/100\n",
            "7/7 [==============================] - 0s 2ms/step - loss: 651.3344 - mae: 651.3344\n",
            "Epoch 72/100\n",
            "7/7 [==============================] - 0s 2ms/step - loss: 617.5999 - mae: 617.5999\n",
            "Epoch 73/100\n",
            "7/7 [==============================] - 0s 2ms/step - loss: 582.9857 - mae: 582.9857\n",
            "Epoch 74/100\n",
            "7/7 [==============================] - 0s 2ms/step - loss: 548.1884 - mae: 548.1884\n",
            "Epoch 75/100\n",
            "7/7 [==============================] - 0s 3ms/step - loss: 513.2312 - mae: 513.2312\n",
            "Epoch 76/100\n",
            "7/7 [==============================] - 0s 2ms/step - loss: 477.2036 - mae: 477.2036\n",
            "Epoch 77/100\n",
            "7/7 [==============================] - 0s 2ms/step - loss: 441.3872 - mae: 441.3872\n",
            "Epoch 78/100\n",
            "7/7 [==============================] - 0s 2ms/step - loss: 404.1031 - mae: 404.1031\n",
            "Epoch 79/100\n",
            "7/7 [==============================] - 0s 2ms/step - loss: 367.8436 - mae: 367.8436\n",
            "Epoch 80/100\n",
            "7/7 [==============================] - 0s 2ms/step - loss: 330.1185 - mae: 330.1185\n",
            "Epoch 81/100\n",
            "7/7 [==============================] - 0s 2ms/step - loss: 292.0795 - mae: 292.0795\n",
            "Epoch 82/100\n",
            "7/7 [==============================] - 0s 2ms/step - loss: 253.6865 - mae: 253.6865\n",
            "Epoch 83/100\n",
            "7/7 [==============================] - 0s 2ms/step - loss: 214.4765 - mae: 214.4765\n",
            "Epoch 84/100\n",
            "7/7 [==============================] - 0s 2ms/step - loss: 174.2396 - mae: 174.2396\n",
            "Epoch 85/100\n",
            "7/7 [==============================] - 0s 2ms/step - loss: 133.0446 - mae: 133.0446\n",
            "Epoch 86/100\n",
            "7/7 [==============================] - 0s 3ms/step - loss: 92.4382 - mae: 92.4382\n",
            "Epoch 87/100\n",
            "7/7 [==============================] - 0s 2ms/step - loss: 50.2425 - mae: 50.2425\n",
            "Epoch 88/100\n",
            "7/7 [==============================] - 0s 3ms/step - loss: 12.7736 - mae: 12.7736\n",
            "Epoch 89/100\n",
            "7/7 [==============================] - 0s 2ms/step - loss: 15.6182 - mae: 15.6182\n",
            "Epoch 90/100\n",
            "7/7 [==============================] - 0s 2ms/step - loss: 9.3948 - mae: 9.3948\n",
            "Epoch 91/100\n",
            "7/7 [==============================] - 0s 2ms/step - loss: 8.2437 - mae: 8.2437\n",
            "Epoch 92/100\n",
            "7/7 [==============================] - 0s 2ms/step - loss: 5.4407 - mae: 5.4407\n",
            "Epoch 93/100\n",
            "7/7 [==============================] - 0s 2ms/step - loss: 5.6038 - mae: 5.6038\n",
            "Epoch 94/100\n",
            "7/7 [==============================] - 0s 2ms/step - loss: 5.3535 - mae: 5.3535\n",
            "Epoch 95/100\n",
            "7/7 [==============================] - 0s 3ms/step - loss: 4.9444 - mae: 4.9444\n",
            "Epoch 96/100\n",
            "7/7 [==============================] - 0s 2ms/step - loss: 4.5389 - mae: 4.5389\n",
            "Epoch 97/100\n",
            "7/7 [==============================] - 0s 2ms/step - loss: 4.5808 - mae: 4.5808\n",
            "Epoch 98/100\n",
            "7/7 [==============================] - 0s 2ms/step - loss: 4.1657 - mae: 4.1657\n",
            "Epoch 99/100\n",
            "7/7 [==============================] - 0s 2ms/step - loss: 3.9720 - mae: 3.9720\n",
            "Epoch 100/100\n",
            "7/7 [==============================] - 0s 2ms/step - loss: 3.7780 - mae: 3.7780\n"
          ],
          "name": "stdout"
        },
        {
          "output_type": "execute_result",
          "data": {
            "text/plain": [
              "<keras.callbacks.History at 0x7f06637b3490>"
            ]
          },
          "metadata": {},
          "execution_count": 11
        }
      ]
    },
    {
      "cell_type": "code",
      "metadata": {
        "colab": {
          "base_uri": "https://localhost:8080/"
        },
        "id": "CZfx2EmP4jI2",
        "outputId": "2e67d63b-b827-45f6-93bd-20c7a9dd8e41"
      },
      "source": [
        "# Model Summary\n",
        "model1.summary()"
      ],
      "execution_count": null,
      "outputs": [
        {
          "output_type": "stream",
          "text": [
            "Model: \"sequential_1\"\n",
            "_________________________________________________________________\n",
            "Layer (type)                 Output Shape              Param #   \n",
            "=================================================================\n",
            "dense_2 (Dense)              (None, 10)                20        \n",
            "_________________________________________________________________\n",
            "dense_3 (Dense)              (None, 1)                 11        \n",
            "=================================================================\n",
            "Total params: 31\n",
            "Trainable params: 31\n",
            "Non-trainable params: 0\n",
            "_________________________________________________________________\n"
          ],
          "name": "stdout"
        }
      ]
    },
    {
      "cell_type": "code",
      "metadata": {
        "id": "0TwJ6lZpvpQF"
      },
      "source": [
        "y_predict1 = model1.predict(X_test)\n"
      ],
      "execution_count": null,
      "outputs": []
    },
    {
      "cell_type": "code",
      "metadata": {
        "colab": {
          "base_uri": "https://localhost:8080/",
          "height": 445
        },
        "id": "CaFKuvPpxA8d",
        "outputId": "2e588f06-f041-441e-c848-0ca421e81011"
      },
      "source": [
        "#Plot with train and test data\n",
        "plt.figure(figsize = (10,7))\n",
        "plt.scatter(X_train, y_train)\n",
        "plt.scatter(X_test, y_test, c = 'b')\n",
        "plt.scatter(X_test, y_predict1, c = 'g')"
      ],
      "execution_count": null,
      "outputs": [
        {
          "output_type": "execute_result",
          "data": {
            "text/plain": [
              "<matplotlib.collections.PathCollection at 0x7f06636c4fd0>"
            ]
          },
          "metadata": {},
          "execution_count": 14
        },
        {
          "output_type": "display_data",
          "data": {
            "image/png": "[encoded data removed]",
            "text/plain": [
              "<Figure size 720x504 with 1 Axes>"
            ]
          },
          "metadata": {
            "needs_background": "light"
          }
        }
      ]
    },
    {
      "cell_type": "code",
      "metadata": {
        "colab": {
          "base_uri": "https://localhost:8080/"
        },
        "id": "4_tTstg8xgq9",
        "outputId": "4ea73a36-4641-41bc-b881-50e267189060"
      },
      "source": [
        "model1.evaluate(X_test, y_test)"
      ],
      "execution_count": null,
      "outputs": [
        {
          "output_type": "stream",
          "text": [
            "2/2 [==============================] - 0s 5ms/step - loss: 9.8282 - mae: 9.8282\n"
          ],
          "name": "stdout"
        },
        {
          "output_type": "execute_result",
          "data": {
            "text/plain": [
              "[9.82821273803711, 9.82821273803711]"
            ]
          },
          "metadata": {},
          "execution_count": 15
        }
      ]
    },
    {
      "cell_type": "code",
      "metadata": {
        "colab": {
          "base_uri": "https://localhost:8080/"
        },
        "id": "KDr6lcnsyEo2",
        "outputId": "c41a275a-1631-4771-8766-464a29226834"
      },
      "source": [
        "model1.predict([5000])"
      ],
      "execution_count": null,
      "outputs": [
        {
          "output_type": "execute_result",
          "data": {
            "text/plain": [
              "array([[49929.43]], dtype=float32)"
            ]
          },
          "metadata": {},
          "execution_count": 16
        }
      ]
    },
    {
      "cell_type": "code",
      "metadata": {
        "colab": {
          "base_uri": "https://localhost:8080/"
        },
        "id": "Bk--owQMWtiq",
        "outputId": "33b0a455-819b-4999-f147-2da48604a531"
      },
      "source": [
        "# Error and Error percentage\n",
        "error = (5000*10) - 49929.43\n",
        "error, (error/(5000*10))*100"
      ],
      "execution_count": null,
      "outputs": [
        {
          "output_type": "execute_result",
          "data": {
            "text/plain": [
              "(70.56999999999971, 0.1411399999999994)"
            ]
          },
          "metadata": {},
          "execution_count": 23
        }
      ]
    },
    {
      "cell_type": "code",
      "metadata": {
        "colab": {
          "base_uri": "https://localhost:8080/"
        },
        "id": "qEZk1t67Wmtj",
        "outputId": "c289f0af-2980-4329-a6b1-9265556b39c2"
      },
      "source": [
        "model1.predict([50000])"
      ],
      "execution_count": null,
      "outputs": [
        {
          "output_type": "execute_result",
          "data": {
            "text/plain": [
              "array([[499335.5]], dtype=float32)"
            ]
          },
          "metadata": {},
          "execution_count": 17
        }
      ]
    },
    {
      "cell_type": "code",
      "metadata": {
        "colab": {
          "base_uri": "https://localhost:8080/"
        },
        "id": "Dl_M31Z9Xryy",
        "outputId": "75943aab-24a8-49d8-bc74-6e74387a945f"
      },
      "source": [
        "# Error and Error percentage\n",
        "error = (50000*10) - 499335.5\n",
        "error, (error/(50000*10))*100"
      ],
      "execution_count": null,
      "outputs": [
        {
          "output_type": "execute_result",
          "data": {
            "text/plain": [
              "(664.5, 0.13290000000000002)"
            ]
          },
          "metadata": {},
          "execution_count": 24
        }
      ]
    },
    {
      "cell_type": "markdown",
      "metadata": {
        "id": "2Y28falI1UJ_"
      },
      "source": [
        "# Model2\n",
        "\n",
        "*   Three Dense layers with 25, 10, 1 neurons respectively\n",
        "\n",
        "*   Loss: mae (mean absolute error)\n",
        "\n",
        "*   Optimizer: Adam with default learning rate\n",
        "\n"
      ]
    },
    {
      "cell_type": "code",
      "metadata": {
        "colab": {
          "base_uri": "https://localhost:8080/"
        },
        "id": "8W9fp7VlyV6N",
        "outputId": "73be4feb-52e2-42c5-eed6-374115fb99f2"
      },
      "source": [
        "#Model2\n",
        "tf.random.set_seed(42)\n",
        "\n",
        "model2 = Sequential()\n",
        "model2.add(Dense(25))\n",
        "model2.add(Dense(10))\n",
        "model2.add(Dense(1))\n",
        "\n",
        "model2.compile(loss = tf.keras.losses.mae, optimizer = tf.keras.optimizers.Adam(), metrics = ('mae'))\n",
        "\n",
        "model2.fit(X_train, y_train, epochs = 100)"
      ],
      "execution_count": null,
      "outputs": [
        {
          "output_type": "stream",
          "text": [
            "Epoch 1/100\n",
            "7/7 [==============================] - 0s 2ms/step - loss: 2025.0927 - mae: 2025.0927\n",
            "Epoch 2/100\n",
            "7/7 [==============================] - 0s 2ms/step - loss: 1984.7919 - mae: 1984.7919\n",
            "Epoch 3/100\n",
            "7/7 [==============================] - 0s 2ms/step - loss: 1943.1472 - mae: 1943.1472\n",
            "Epoch 4/100\n",
            "7/7 [==============================] - 0s 2ms/step - loss: 1900.0615 - mae: 1900.0615\n",
            "Epoch 5/100\n",
            "7/7 [==============================] - 0s 2ms/step - loss: 1854.2439 - mae: 1854.2439\n",
            "Epoch 6/100\n",
            "7/7 [==============================] - 0s 2ms/step - loss: 1807.7720 - mae: 1807.7720\n",
            "Epoch 7/100\n",
            "7/7 [==============================] - 0s 2ms/step - loss: 1755.9264 - mae: 1755.9264\n",
            "Epoch 8/100\n",
            "7/7 [==============================] - 0s 2ms/step - loss: 1700.8950 - mae: 1700.8950\n",
            "Epoch 9/100\n",
            "7/7 [==============================] - 0s 2ms/step - loss: 1638.7806 - mae: 1638.7806\n",
            "Epoch 10/100\n",
            "7/7 [==============================] - 0s 2ms/step - loss: 1573.3734 - mae: 1573.3734\n",
            "Epoch 11/100\n",
            "7/7 [==============================] - 0s 2ms/step - loss: 1500.3354 - mae: 1500.3354\n",
            "Epoch 12/100\n",
            "7/7 [==============================] - 0s 2ms/step - loss: 1419.5000 - mae: 1419.5000\n",
            "Epoch 13/100\n",
            "7/7 [==============================] - 0s 2ms/step - loss: 1331.8313 - mae: 1331.8313\n",
            "Epoch 14/100\n",
            "7/7 [==============================] - 0s 2ms/step - loss: 1235.3040 - mae: 1235.3040\n",
            "Epoch 15/100\n",
            "7/7 [==============================] - 0s 2ms/step - loss: 1127.1088 - mae: 1127.1088\n",
            "Epoch 16/100\n",
            "7/7 [==============================] - 0s 2ms/step - loss: 1009.3430 - mae: 1009.3430\n",
            "Epoch 17/100\n",
            "7/7 [==============================] - 0s 2ms/step - loss: 879.9031 - mae: 879.9031\n",
            "Epoch 18/100\n",
            "7/7 [==============================] - 0s 2ms/step - loss: 739.8596 - mae: 739.8596\n",
            "Epoch 19/100\n",
            "7/7 [==============================] - 0s 2ms/step - loss: 582.5030 - mae: 582.5030\n",
            "Epoch 20/100\n",
            "7/7 [==============================] - 0s 2ms/step - loss: 413.4084 - mae: 413.4084\n",
            "Epoch 21/100\n",
            "7/7 [==============================] - 0s 2ms/step - loss: 228.4110 - mae: 228.4110\n",
            "Epoch 22/100\n",
            "7/7 [==============================] - 0s 2ms/step - loss: 50.3128 - mae: 50.3128\n",
            "Epoch 23/100\n",
            "7/7 [==============================] - 0s 2ms/step - loss: 77.8055 - mae: 77.8055\n",
            "Epoch 24/100\n",
            "7/7 [==============================] - 0s 2ms/step - loss: 27.0548 - mae: 27.0548\n",
            "Epoch 25/100\n",
            "7/7 [==============================] - 0s 2ms/step - loss: 34.5968 - mae: 34.5968\n",
            "Epoch 26/100\n",
            "7/7 [==============================] - 0s 3ms/step - loss: 15.1741 - mae: 15.1741\n",
            "Epoch 27/100\n",
            "7/7 [==============================] - 0s 2ms/step - loss: 12.5650 - mae: 12.5650\n",
            "Epoch 28/100\n",
            "7/7 [==============================] - 0s 2ms/step - loss: 9.5957 - mae: 9.5957\n",
            "Epoch 29/100\n",
            "7/7 [==============================] - 0s 2ms/step - loss: 5.8964 - mae: 5.8964\n",
            "Epoch 30/100\n",
            "7/7 [==============================] - 0s 2ms/step - loss: 4.7672 - mae: 4.7672\n",
            "Epoch 31/100\n",
            "7/7 [==============================] - 0s 2ms/step - loss: 3.6432 - mae: 3.6432\n",
            "Epoch 32/100\n",
            "7/7 [==============================] - 0s 2ms/step - loss: 4.1281 - mae: 4.1281\n",
            "Epoch 33/100\n",
            "7/7 [==============================] - 0s 2ms/step - loss: 2.5438 - mae: 2.5438\n",
            "Epoch 34/100\n",
            "7/7 [==============================] - 0s 3ms/step - loss: 1.7854 - mae: 1.7854\n",
            "Epoch 35/100\n",
            "7/7 [==============================] - 0s 2ms/step - loss: 2.0955 - mae: 2.0955\n",
            "Epoch 36/100\n",
            "7/7 [==============================] - 0s 2ms/step - loss: 2.0551 - mae: 2.0551\n",
            "Epoch 37/100\n",
            "7/7 [==============================] - 0s 2ms/step - loss: 2.5947 - mae: 2.5947\n",
            "Epoch 38/100\n",
            "7/7 [==============================] - 0s 2ms/step - loss: 2.5640 - mae: 2.5640\n",
            "Epoch 39/100\n",
            "7/7 [==============================] - 0s 2ms/step - loss: 2.1489 - mae: 2.1489\n",
            "Epoch 40/100\n",
            "7/7 [==============================] - 0s 2ms/step - loss: 2.7993 - mae: 2.7993\n",
            "Epoch 41/100\n",
            "7/7 [==============================] - 0s 2ms/step - loss: 2.1654 - mae: 2.1654\n",
            "Epoch 42/100\n",
            "7/7 [==============================] - 0s 2ms/step - loss: 2.8843 - mae: 2.8843\n",
            "Epoch 43/100\n",
            "7/7 [==============================] - 0s 3ms/step - loss: 3.3930 - mae: 3.3930\n",
            "Epoch 44/100\n",
            "7/7 [==============================] - 0s 2ms/step - loss: 2.3306 - mae: 2.3306\n",
            "Epoch 45/100\n",
            "7/7 [==============================] - 0s 2ms/step - loss: 3.2306 - mae: 3.2306\n",
            "Epoch 46/100\n",
            "7/7 [==============================] - 0s 2ms/step - loss: 2.8609 - mae: 2.8609\n",
            "Epoch 47/100\n",
            "7/7 [==============================] - 0s 2ms/step - loss: 3.4112 - mae: 3.4112\n",
            "Epoch 48/100\n",
            "7/7 [==============================] - 0s 2ms/step - loss: 6.2106 - mae: 6.2106\n",
            "Epoch 49/100\n",
            "7/7 [==============================] - 0s 2ms/step - loss: 2.8477 - mae: 2.8477\n",
            "Epoch 50/100\n",
            "7/7 [==============================] - 0s 2ms/step - loss: 4.4483 - mae: 4.4483\n",
            "Epoch 51/100\n",
            "7/7 [==============================] - 0s 2ms/step - loss: 6.5445 - mae: 6.5445\n",
            "Epoch 52/100\n",
            "7/7 [==============================] - 0s 2ms/step - loss: 7.8054 - mae: 7.8054\n",
            "Epoch 53/100\n",
            "7/7 [==============================] - 0s 2ms/step - loss: 6.1488 - mae: 6.1488\n",
            "Epoch 54/100\n",
            "7/7 [==============================] - 0s 2ms/step - loss: 3.8209 - mae: 3.8209\n",
            "Epoch 55/100\n",
            "7/7 [==============================] - 0s 2ms/step - loss: 1.7946 - mae: 1.7946\n",
            "Epoch 56/100\n",
            "7/7 [==============================] - 0s 3ms/step - loss: 2.2385 - mae: 2.2385\n",
            "Epoch 57/100\n",
            "7/7 [==============================] - 0s 2ms/step - loss: 1.4889 - mae: 1.4889\n",
            "Epoch 58/100\n",
            "7/7 [==============================] - 0s 2ms/step - loss: 1.9304 - mae: 1.9304\n",
            "Epoch 59/100\n",
            "7/7 [==============================] - 0s 2ms/step - loss: 2.5452 - mae: 2.5452\n",
            "Epoch 60/100\n",
            "7/7 [==============================] - 0s 2ms/step - loss: 1.3498 - mae: 1.3498\n",
            "Epoch 61/100\n",
            "7/7 [==============================] - 0s 2ms/step - loss: 2.5709 - mae: 2.5709\n",
            "Epoch 62/100\n",
            "7/7 [==============================] - 0s 2ms/step - loss: 1.2871 - mae: 1.2871\n",
            "Epoch 63/100\n",
            "7/7 [==============================] - 0s 2ms/step - loss: 2.3028 - mae: 2.3028\n",
            "Epoch 64/100\n",
            "7/7 [==============================] - 0s 2ms/step - loss: 1.8292 - mae: 1.8292\n",
            "Epoch 65/100\n",
            "7/7 [==============================] - 0s 2ms/step - loss: 0.5590 - mae: 0.5590\n",
            "Epoch 66/100\n",
            "7/7 [==============================] - 0s 2ms/step - loss: 2.1675 - mae: 2.1675\n",
            "Epoch 67/100\n",
            "7/7 [==============================] - 0s 2ms/step - loss: 0.6389 - mae: 0.6389\n",
            "Epoch 68/100\n",
            "7/7 [==============================] - 0s 3ms/step - loss: 2.1831 - mae: 2.1831\n",
            "Epoch 69/100\n",
            "7/7 [==============================] - 0s 2ms/step - loss: 1.5753 - mae: 1.5753\n",
            "Epoch 70/100\n",
            "7/7 [==============================] - 0s 3ms/step - loss: 3.8021 - mae: 3.8021\n",
            "Epoch 71/100\n",
            "7/7 [==============================] - 0s 2ms/step - loss: 3.4893 - mae: 3.4893\n",
            "Epoch 72/100\n",
            "7/7 [==============================] - 0s 2ms/step - loss: 1.6011 - mae: 1.6011\n",
            "Epoch 73/100\n",
            "7/7 [==============================] - 0s 2ms/step - loss: 3.9443 - mae: 3.9443\n",
            "Epoch 74/100\n",
            "7/7 [==============================] - 0s 2ms/step - loss: 1.3709 - mae: 1.3709\n",
            "Epoch 75/100\n",
            "7/7 [==============================] - 0s 3ms/step - loss: 2.0913 - mae: 2.0913\n",
            "Epoch 76/100\n",
            "7/7 [==============================] - 0s 2ms/step - loss: 3.2983 - mae: 3.2983\n",
            "Epoch 77/100\n",
            "7/7 [==============================] - 0s 2ms/step - loss: 3.3059 - mae: 3.3059\n",
            "Epoch 78/100\n",
            "7/7 [==============================] - 0s 2ms/step - loss: 3.5838 - mae: 3.5838\n",
            "Epoch 79/100\n",
            "7/7 [==============================] - 0s 2ms/step - loss: 0.8838 - mae: 0.8838\n",
            "Epoch 80/100\n",
            "7/7 [==============================] - 0s 2ms/step - loss: 2.2137 - mae: 2.2137\n",
            "Epoch 81/100\n",
            "7/7 [==============================] - 0s 2ms/step - loss: 3.5992 - mae: 3.5992\n",
            "Epoch 82/100\n",
            "7/7 [==============================] - 0s 3ms/step - loss: 2.1425 - mae: 2.1425\n",
            "Epoch 83/100\n",
            "7/7 [==============================] - 0s 3ms/step - loss: 3.9873 - mae: 3.9873\n",
            "Epoch 84/100\n",
            "7/7 [==============================] - 0s 2ms/step - loss: 3.6774 - mae: 3.6774\n",
            "Epoch 85/100\n",
            "7/7 [==============================] - 0s 3ms/step - loss: 1.9823 - mae: 1.9823\n",
            "Epoch 86/100\n",
            "7/7 [==============================] - 0s 3ms/step - loss: 2.4764 - mae: 2.4764\n",
            "Epoch 87/100\n",
            "7/7 [==============================] - 0s 3ms/step - loss: 3.1807 - mae: 3.1807\n",
            "Epoch 88/100\n",
            "7/7 [==============================] - 0s 3ms/step - loss: 2.1127 - mae: 2.1127\n",
            "Epoch 89/100\n",
            "7/7 [==============================] - 0s 3ms/step - loss: 1.4853 - mae: 1.4853\n",
            "Epoch 90/100\n",
            "7/7 [==============================] - 0s 3ms/step - loss: 1.4935 - mae: 1.4935\n",
            "Epoch 91/100\n",
            "7/7 [==============================] - 0s 2ms/step - loss: 3.0141 - mae: 3.0141\n",
            "Epoch 92/100\n",
            "7/7 [==============================] - 0s 2ms/step - loss: 2.3909 - mae: 2.3909\n",
            "Epoch 93/100\n",
            "7/7 [==============================] - 0s 2ms/step - loss: 1.4183 - mae: 1.4183\n",
            "Epoch 94/100\n",
            "7/7 [==============================] - 0s 3ms/step - loss: 0.9401 - mae: 0.9401\n",
            "Epoch 95/100\n",
            "7/7 [==============================] - 0s 2ms/step - loss: 1.6655 - mae: 1.6655\n",
            "Epoch 96/100\n",
            "7/7 [==============================] - 0s 2ms/step - loss: 2.8593 - mae: 2.8593\n",
            "Epoch 97/100\n",
            "7/7 [==============================] - 0s 3ms/step - loss: 3.5036 - mae: 3.5036\n",
            "Epoch 98/100\n",
            "7/7 [==============================] - 0s 3ms/step - loss: 1.6397 - mae: 1.6397\n",
            "Epoch 99/100\n",
            "7/7 [==============================] - 0s 3ms/step - loss: 1.1513 - mae: 1.1513\n",
            "Epoch 100/100\n",
            "7/7 [==============================] - 0s 2ms/step - loss: 2.1653 - mae: 2.1653\n"
          ],
          "name": "stdout"
        },
        {
          "output_type": "execute_result",
          "data": {
            "text/plain": [
              "<keras.callbacks.History at 0x7f0663638a90>"
            ]
          },
          "metadata": {},
          "execution_count": 26
        }
      ]
    },
    {
      "cell_type": "code",
      "metadata": {
        "id": "Nio7h-FO4qKN",
        "colab": {
          "base_uri": "https://localhost:8080/"
        },
        "outputId": "2246f733-ad8c-4815-f3c4-61a510000d29"
      },
      "source": [
        "#Model2 summary\n",
        "model2.summary()"
      ],
      "execution_count": null,
      "outputs": [
        {
          "output_type": "stream",
          "text": [
            "Model: \"sequential_2\"\n",
            "_________________________________________________________________\n",
            "Layer (type)                 Output Shape              Param #   \n",
            "=================================================================\n",
            "dense_4 (Dense)              (None, 25)                50        \n",
            "_________________________________________________________________\n",
            "dense_5 (Dense)              (None, 10)                260       \n",
            "_________________________________________________________________\n",
            "dense_6 (Dense)              (None, 1)                 11        \n",
            "=================================================================\n",
            "Total params: 321\n",
            "Trainable params: 321\n",
            "Non-trainable params: 0\n",
            "_________________________________________________________________\n"
          ],
          "name": "stdout"
        }
      ]
    },
    {
      "cell_type": "code",
      "metadata": {
        "colab": {
          "base_uri": "https://localhost:8080/"
        },
        "id": "nPePLRBy2Jak",
        "outputId": "971304f2-3053-475a-c892-4a9038fa4dc4"
      },
      "source": [
        "model2.evaluate(X_test, y_test)"
      ],
      "execution_count": null,
      "outputs": [
        {
          "output_type": "stream",
          "text": [
            "2/2 [==============================] - 0s 6ms/step - loss: 2.1473 - mae: 2.1473\n"
          ],
          "name": "stdout"
        },
        {
          "output_type": "execute_result",
          "data": {
            "text/plain": [
              "[2.1473193168640137, 2.1473193168640137]"
            ]
          },
          "metadata": {},
          "execution_count": 29
        }
      ]
    },
    {
      "cell_type": "code",
      "metadata": {
        "id": "0i4T4Mjp2ZD-"
      },
      "source": [
        "y_predict2 = model2.predict(X_test)\n"
      ],
      "execution_count": null,
      "outputs": []
    },
    {
      "cell_type": "code",
      "metadata": {
        "colab": {
          "base_uri": "https://localhost:8080/",
          "height": 609
        },
        "id": "wzqC2OwU2fkN",
        "outputId": "db61e885-1449-41af-9646-7b9dc72768f0"
      },
      "source": [
        "#Plot with train and test data\n",
        "plt.figure(figsize = (10,10))\n",
        "plt.scatter(X_train, y_train)\n",
        "plt.scatter(X_test, y_test, c = 'b')\n",
        "plt.scatter(X_test, y_predict2, c = 'g')"
      ],
      "execution_count": null,
      "outputs": [
        {
          "output_type": "execute_result",
          "data": {
            "text/plain": [
              "<matplotlib.collections.PathCollection at 0x7f06632bac90>"
            ]
          },
          "metadata": {},
          "execution_count": 35
        },
        {
          "output_type": "display_data",
          "data": {
            "image/png": "[encoded data removed]",
            "text/plain": [
              "<Figure size 720x720 with 1 Axes>"
            ]
          },
          "metadata": {
            "needs_background": "light"
          }
        }
      ]
    },
    {
      "cell_type": "code",
      "metadata": {
        "colab": {
          "base_uri": "https://localhost:8080/"
        },
        "id": "Fqp5a3vk2nv2",
        "outputId": "351e9d27-246c-44d4-9f23-a6f375995444"
      },
      "source": [
        "model2.predict([5000])"
      ],
      "execution_count": null,
      "outputs": [
        {
          "output_type": "execute_result",
          "data": {
            "text/plain": [
              "array([[50027.363]], dtype=float32)"
            ]
          },
          "metadata": {},
          "execution_count": 39
        }
      ]
    },
    {
      "cell_type": "code",
      "metadata": {
        "id": "zJ-GfXbu2-Xt",
        "colab": {
          "base_uri": "https://localhost:8080/"
        },
        "outputId": "7b56d244-e5a0-4ab7-de2d-d04f1f3d9099"
      },
      "source": [
        "# Error and Error percentage\n",
        "error = (5000*10) - 50027.363\n",
        "error, (error/(5000*10))*100"
      ],
      "execution_count": null,
      "outputs": [
        {
          "output_type": "execute_result",
          "data": {
            "text/plain": [
              "(-27.362999999997555, -0.05472599999999511)"
            ]
          },
          "metadata": {},
          "execution_count": 40
        }
      ]
    },
    {
      "cell_type": "code",
      "metadata": {
        "colab": {
          "base_uri": "https://localhost:8080/"
        },
        "id": "MeAfuJN6bEki",
        "outputId": "d8f49068-bac2-41d4-a1b4-e66ee9a618dc"
      },
      "source": [
        "model2.predict([50000])"
      ],
      "execution_count": null,
      "outputs": [
        {
          "output_type": "execute_result",
          "data": {
            "text/plain": [
              "array([[500273.97]], dtype=float32)"
            ]
          },
          "metadata": {},
          "execution_count": 41
        }
      ]
    },
    {
      "cell_type": "code",
      "metadata": {
        "colab": {
          "base_uri": "https://localhost:8080/"
        },
        "id": "IinusTjHbYvR",
        "outputId": "4e1da374-55bc-44a9-8366-87c38678b636"
      },
      "source": [
        "# Error and Error percentage\n",
        "error = (50000*10) - 500273.97\n",
        "error, (error/(50000*10))*100"
      ],
      "execution_count": null,
      "outputs": [
        {
          "output_type": "execute_result",
          "data": {
            "text/plain": [
              "(-273.96999999997206, -0.05479399999999441)"
            ]
          },
          "metadata": {},
          "execution_count": 42
        }
      ]
    }
  ]
}