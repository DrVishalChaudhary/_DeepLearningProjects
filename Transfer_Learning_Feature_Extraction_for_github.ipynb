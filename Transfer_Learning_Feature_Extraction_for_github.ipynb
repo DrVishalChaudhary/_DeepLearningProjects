{
  "nbformat": 4,
  "nbformat_minor": 0,
  "metadata": {
    "colab": {
      "name": "Transfer Learning Feature Extraction for github.ipynb",
      "provenance": [],
      "collapsed_sections": [],
      "mount_file_id": "1cqOuOpkpCHkWOqzjKpdCPt3zrGRxhm1P",
      "authorship_tag": "ABX9TyMZpfjFoPOVXfPCD7wj0Va8",
      "include_colab_link": true
    },
    "kernelspec": {
      "name": "python3",
      "display_name": "Python 3"
    },
    "language_info": {
      "name": "python"
    },
    "accelerator": "GPU"
  },
  "cells": [
    {
      "cell_type": "markdown",
      "metadata": {
        "id": "view-in-github",
        "colab_type": "text"
      },
      "source": [
        "<a href=\"https://colab.research.google.com/github/DrVishalChaudhary/_DeepLearningProjects/blob/main/Transfer_Learning_Feature_Extraction_for_github.ipynb\" target=\"_parent\"><img src=\"https://colab.research.google.com/assets/colab-badge.svg\" alt=\"Open In Colab\"/></a>"
      ]
    },
    {
      "cell_type": "markdown",
      "source": [
        "# Binary Classification using transfer learning\n",
        "\n",
        "* Feature extraction using existing trained models\n",
        "\n",
        "* Models: efficientnet\n",
        "\n"
      ],
      "metadata": {
        "id": "7lq3btkjYHjH"
      }
    },
    {
      "cell_type": "code",
      "source": [
        "# Library Import\n",
        "\n",
        "import tensorflow as tf\n",
        "import numpy as np\n",
        "import matplotlib.pyplot as plt\n",
        "from matplotlib.image import imread\n",
        "import pandas as pd\n",
        "import os"
      ],
      "metadata": {
        "id": "JmOAm00ZYvOu"
      },
      "execution_count": 1,
      "outputs": []
    },
    {
      "cell_type": "code",
      "source": [
        "# Data path\n",
        "data_dir = \"/content/drive/MyDrive/Colab Notebooks/Cat Vs Dog\"\n",
        "\n",
        "train_data_path = data_dir + '/Train/'\n",
        "test_data_path = data_dir + '/Test/'"
      ],
      "metadata": {
        "id": "LdlNgr0tZn2-"
      },
      "execution_count": 2,
      "outputs": []
    },
    {
      "cell_type": "code",
      "source": [
        "train_data_path"
      ],
      "metadata": {
        "colab": {
          "base_uri": "https://localhost:8080/",
          "height": 35
        },
        "id": "yV0elOx2ZwF2",
        "outputId": "ec0879ca-37a7-4188-b285-c2aefe76d447"
      },
      "execution_count": 3,
      "outputs": [
        {
          "output_type": "execute_result",
          "data": {
            "application/vnd.google.colaboratory.intrinsic+json": {
              "type": "string"
            },
            "text/plain": [
              "'/content/drive/MyDrive/Colab Notebooks/Cat Vs Dog/Train/'"
            ]
          },
          "metadata": {},
          "execution_count": 3
        }
      ]
    },
    {
      "cell_type": "code",
      "source": [
        "!ls \"/content/drive/MyDrive/Colab Notebooks/Cat Vs Dog/Train/\""
      ],
      "metadata": {
        "colab": {
          "base_uri": "https://localhost:8080/"
        },
        "id": "rLvCNeOaaG6-",
        "outputId": "01d67444-91fa-4560-cd33-ac32d9782221"
      },
      "execution_count": 4,
      "outputs": [
        {
          "output_type": "stream",
          "name": "stdout",
          "text": [
            "Cat  Dog\n"
          ]
        }
      ]
    },
    {
      "cell_type": "code",
      "source": [
        "# Average dimension for Cat images\n",
        "first_dim = []\n",
        "second_dim = []\n",
        "for image_no in os.listdir(train_data_path + '/Cat'):\n",
        "  img = imread(train_data_path + '/Cat/'+ image_no)\n",
        "  d1,d2,d3 = img.shape\n",
        "  first_dim.append(d1)\n",
        "  second_dim.append(d2)"
      ],
      "metadata": {
        "id": "rqE8g6GRabhD"
      },
      "execution_count": 5,
      "outputs": []
    },
    {
      "cell_type": "code",
      "source": [
        "first_dim_mean = np.mean(first_dim)\n",
        "second_dim_mean = np.mean(second_dim)\n",
        "first_dim_mean, second_dim_mean"
      ],
      "metadata": {
        "colab": {
          "base_uri": "https://localhost:8080/"
        },
        "id": "Z-kilIRfbgBV",
        "outputId": "1ca77ede-3a88-4573-8ae2-ac8fcd1ceecb"
      },
      "execution_count": 6,
      "outputs": [
        {
          "output_type": "execute_result",
          "data": {
            "text/plain": [
              "(357.7486548808609, 413.9631053036126)"
            ]
          },
          "metadata": {},
          "execution_count": 6
        }
      ]
    },
    {
      "cell_type": "code",
      "source": [
        "# Average dimension for Dog images\n",
        "first_dim1 = []\n",
        "second_dim1 = []\n",
        "for image_no in os.listdir(train_data_path + '/Dog'):\n",
        "  img = imread(train_data_path + '/Dog/'+ image_no)\n",
        "  d1,d2,d3 = img.shape\n",
        "  first_dim1.append(d1)\n",
        "  second_dim1.append(d2)"
      ],
      "metadata": {
        "id": "7oEeGNWebt8M"
      },
      "execution_count": 7,
      "outputs": []
    },
    {
      "cell_type": "code",
      "source": [
        "first_dim1_mean = np.mean(first_dim1)\n",
        "second_dim1_mean = np.mean(second_dim1)\n",
        "first_dim1_mean, second_dim1_mean"
      ],
      "metadata": {
        "colab": {
          "base_uri": "https://localhost:8080/"
        },
        "id": "v4EIXQLGcAQc",
        "outputId": "5e57de87-229f-4a32-9fc6-af747abb791c"
      },
      "execution_count": 8,
      "outputs": [
        {
          "output_type": "execute_result",
          "data": {
            "text/plain": [
              "(364.63720215219064, 397.56879323597235)"
            ]
          },
          "metadata": {},
          "execution_count": 8
        }
      ]
    },
    {
      "cell_type": "code",
      "source": [
        "# First dimension average value\n",
        "(358 + 364)/2"
      ],
      "metadata": {
        "colab": {
          "base_uri": "https://localhost:8080/"
        },
        "id": "Ndwm07HQcHZk",
        "outputId": "338c2b9a-4b24-49a8-c483-34e8d60963cd"
      },
      "execution_count": 9,
      "outputs": [
        {
          "output_type": "execute_result",
          "data": {
            "text/plain": [
              "361.0"
            ]
          },
          "metadata": {},
          "execution_count": 9
        }
      ]
    },
    {
      "cell_type": "code",
      "source": [
        "# Second dimension average value\n",
        "(414+399)/2"
      ],
      "metadata": {
        "colab": {
          "base_uri": "https://localhost:8080/"
        },
        "id": "dVBjj2O0cKnE",
        "outputId": "1e573171-386d-4ba0-a64a-88278be56d79"
      },
      "execution_count": 10,
      "outputs": [
        {
          "output_type": "execute_result",
          "data": {
            "text/plain": [
              "406.5"
            ]
          },
          "metadata": {},
          "execution_count": 10
        }
      ]
    },
    {
      "cell_type": "code",
      "source": [
        "input_shape = (361, 406, 3)"
      ],
      "metadata": {
        "id": "0nPAeD-0cPSk"
      },
      "execution_count": 11,
      "outputs": []
    },
    {
      "cell_type": "markdown",
      "source": [
        "#Augmented and Non-Augmented data\n",
        "\n",
        "* train_data and test_data: Non-augmented data\n",
        "\n",
        "* train_data_augmented and test_data_augmented: Augmented data"
      ],
      "metadata": {
        "id": "_hkda0Z_dCoc"
      }
    },
    {
      "cell_type": "code",
      "source": [
        "#Train and Test data \n",
        "from tensorflow.keras.preprocessing.image import ImageDataGenerator\n",
        "\n",
        "train_datagen = ImageDataGenerator(rescale = 1/255.)\n",
        "test_datagen = ImageDataGenerator(rescale = 1/255.)\n",
        "\n",
        "train_data = train_datagen.flow_from_directory(train_data_path, target_size=(361, 406), batch_size=32, class_mode='binary')\n",
        "test_data = test_datagen.flow_from_directory(test_data_path, target_size=(361, 406), batch_size=32, class_mode='binary')"
      ],
      "metadata": {
        "id": "Ng5FbdfBdJNT",
        "colab": {
          "base_uri": "https://localhost:8080/"
        },
        "outputId": "4ef2787a-0e44-43c5-9114-02a79f8cc4ba"
      },
      "execution_count": 12,
      "outputs": [
        {
          "output_type": "stream",
          "name": "stdout",
          "text": [
            "Found 2602 images belonging to 2 classes.\n",
            "Found 400 images belonging to 2 classes.\n"
          ]
        }
      ]
    },
    {
      "cell_type": "code",
      "source": [
        "# Train and Test data with augmentation\n",
        "from tensorflow.keras.preprocessing.image import ImageDataGenerator\n",
        "\n",
        "train_datagen_augmented = ImageDataGenerator(rescale = 1/255., rotation_range=0.2, shear_range=0.2, zoom_range=0.2, \n",
        "                                                    width_shift_range=0.2, height_shift_range=0.2, horizontal_flip=True)\n",
        "test_datagen_augmented = ImageDataGenerator(rescale = 1/255.)\n",
        "\n",
        "train_data_augmented = train_datagen_augmented.flow_from_directory(train_data_path, target_size=(361, 406), batch_size=32, class_mode='binary')\n",
        "test_data_augmented = test_datagen_augmented.flow_from_directory(test_data_path, target_size=(361, 406), batch_size=32, class_mode='binary')"
      ],
      "metadata": {
        "colab": {
          "base_uri": "https://localhost:8080/"
        },
        "id": "ufa8RIRXeF7b",
        "outputId": "176ee492-7551-4c62-e279-9d72f5f1c7ea"
      },
      "execution_count": 13,
      "outputs": [
        {
          "output_type": "stream",
          "name": "stdout",
          "text": [
            "Found 2602 images belonging to 2 classes.\n",
            "Found 400 images belonging to 2 classes.\n"
          ]
        }
      ]
    },
    {
      "cell_type": "markdown",
      "source": [
        "# Model1: efficientnetB0\n",
        "\n",
        "* Non-augmentation"
      ],
      "metadata": {
        "id": "eOBF7GRgeYZz"
      }
    },
    {
      "cell_type": "code",
      "source": [
        "efficientnet_url = \"https://tfhub.dev/tensorflow/efficientnet/b0/feature-vector/1\""
      ],
      "metadata": {
        "id": "N64owUpEekWN"
      },
      "execution_count": 14,
      "outputs": []
    },
    {
      "cell_type": "code",
      "source": [
        "import tensorflow_hub as hub\n",
        "from tensorflow.keras.models import Sequential\n",
        "from tensorflow.keras.layers import Dense\n",
        "\n",
        "feature_extracted_layer2 = hub.KerasLayer(efficientnet_url, trainable = False, input_shape = input_shape)\n",
        "\n",
        "model1 = Sequential()\n",
        "model1.add(feature_extracted_layer2)\n",
        "model1.add(Dense(1, activation='sigmoid'))\n",
        "\n",
        "model1.compile(loss = tf.keras.losses.binary_crossentropy, optimizer = tf.keras.optimizers.Adam(), metrics = 'accuracy')\n",
        "\n",
        "efficientnet_history = model1.fit(train_data, epochs = 20, steps_per_epoch=len(train_data), validation_data = test_data, validation_steps=len(test_data))"
      ],
      "metadata": {
        "colab": {
          "base_uri": "https://localhost:8080/"
        },
        "id": "om3AiFRlen7E",
        "outputId": "074a01a8-d576-4a41-b744-b22a90641ee4"
      },
      "execution_count": 15,
      "outputs": [
        {
          "output_type": "stream",
          "name": "stdout",
          "text": [
            "Epoch 1/20\n",
            "82/82 [==============================] - 150s 2s/step - loss: 0.2314 - accuracy: 0.9327 - val_loss: 0.0985 - val_accuracy: 0.9700\n",
            "Epoch 2/20\n",
            "82/82 [==============================] - 33s 402ms/step - loss: 0.0623 - accuracy: 0.9900 - val_loss: 0.0655 - val_accuracy: 0.9750\n",
            "Epoch 3/20\n",
            "82/82 [==============================] - 33s 401ms/step - loss: 0.0412 - accuracy: 0.9927 - val_loss: 0.0529 - val_accuracy: 0.9800\n",
            "Epoch 4/20\n",
            "82/82 [==============================] - 33s 400ms/step - loss: 0.0316 - accuracy: 0.9962 - val_loss: 0.0468 - val_accuracy: 0.9825\n",
            "Epoch 5/20\n",
            "82/82 [==============================] - 33s 401ms/step - loss: 0.0258 - accuracy: 0.9958 - val_loss: 0.0438 - val_accuracy: 0.9875\n",
            "Epoch 6/20\n",
            "82/82 [==============================] - 33s 400ms/step - loss: 0.0222 - accuracy: 0.9973 - val_loss: 0.0413 - val_accuracy: 0.9825\n",
            "Epoch 7/20\n",
            "82/82 [==============================] - 33s 401ms/step - loss: 0.0193 - accuracy: 0.9973 - val_loss: 0.0398 - val_accuracy: 0.9850\n",
            "Epoch 8/20\n",
            "82/82 [==============================] - 33s 400ms/step - loss: 0.0172 - accuracy: 0.9977 - val_loss: 0.0387 - val_accuracy: 0.9875\n",
            "Epoch 9/20\n",
            "82/82 [==============================] - 33s 400ms/step - loss: 0.0156 - accuracy: 0.9977 - val_loss: 0.0382 - val_accuracy: 0.9825\n",
            "Epoch 10/20\n",
            "82/82 [==============================] - 33s 401ms/step - loss: 0.0142 - accuracy: 0.9977 - val_loss: 0.0382 - val_accuracy: 0.9850\n",
            "Epoch 11/20\n",
            "82/82 [==============================] - 33s 400ms/step - loss: 0.0129 - accuracy: 0.9985 - val_loss: 0.0380 - val_accuracy: 0.9850\n",
            "Epoch 12/20\n",
            "82/82 [==============================] - 33s 400ms/step - loss: 0.0119 - accuracy: 0.9985 - val_loss: 0.0371 - val_accuracy: 0.9850\n",
            "Epoch 13/20\n",
            "82/82 [==============================] - 33s 400ms/step - loss: 0.0110 - accuracy: 0.9988 - val_loss: 0.0378 - val_accuracy: 0.9850\n",
            "Epoch 14/20\n",
            "82/82 [==============================] - 33s 400ms/step - loss: 0.0102 - accuracy: 0.9985 - val_loss: 0.0375 - val_accuracy: 0.9850\n",
            "Epoch 15/20\n",
            "82/82 [==============================] - 33s 400ms/step - loss: 0.0095 - accuracy: 0.9988 - val_loss: 0.0368 - val_accuracy: 0.9875\n",
            "Epoch 16/20\n",
            "82/82 [==============================] - 33s 400ms/step - loss: 0.0089 - accuracy: 0.9988 - val_loss: 0.0373 - val_accuracy: 0.9875\n",
            "Epoch 17/20\n",
            "82/82 [==============================] - 33s 400ms/step - loss: 0.0084 - accuracy: 0.9988 - val_loss: 0.0371 - val_accuracy: 0.9875\n",
            "Epoch 18/20\n",
            "82/82 [==============================] - 33s 400ms/step - loss: 0.0079 - accuracy: 0.9996 - val_loss: 0.0380 - val_accuracy: 0.9875\n",
            "Epoch 19/20\n",
            "82/82 [==============================] - 33s 401ms/step - loss: 0.0074 - accuracy: 0.9992 - val_loss: 0.0378 - val_accuracy: 0.9875\n",
            "Epoch 20/20\n",
            "82/82 [==============================] - 33s 401ms/step - loss: 0.0069 - accuracy: 0.9996 - val_loss: 0.0386 - val_accuracy: 0.9850\n"
          ]
        }
      ]
    },
    {
      "cell_type": "code",
      "source": [
        "model1.evaluate(test_data)"
      ],
      "metadata": {
        "colab": {
          "base_uri": "https://localhost:8080/"
        },
        "id": "6ysOWoO4hKhK",
        "outputId": "36d3f16e-2128-4bc9-a0a9-d003b5b45906"
      },
      "execution_count": 16,
      "outputs": [
        {
          "output_type": "stream",
          "name": "stdout",
          "text": [
            "13/13 [==============================] - 5s 332ms/step - loss: 0.0386 - accuracy: 0.9850\n"
          ]
        },
        {
          "output_type": "execute_result",
          "data": {
            "text/plain": [
              "[0.038563307374715805, 0.9850000143051147]"
            ]
          },
          "metadata": {},
          "execution_count": 16
        }
      ]
    },
    {
      "cell_type": "code",
      "source": [
        "model1.summary()"
      ],
      "metadata": {
        "id": "L5TXDgxvhQxx",
        "colab": {
          "base_uri": "https://localhost:8080/"
        },
        "outputId": "16320ada-e36e-438b-b35e-8da758c8d728"
      },
      "execution_count": 17,
      "outputs": [
        {
          "output_type": "stream",
          "name": "stdout",
          "text": [
            "Model: \"sequential\"\n",
            "_________________________________________________________________\n",
            " Layer (type)                Output Shape              Param #   \n",
            "=================================================================\n",
            " keras_layer (KerasLayer)    (None, 1280)              4049564   \n",
            "                                                                 \n",
            " dense (Dense)               (None, 1)                 1281      \n",
            "                                                                 \n",
            "=================================================================\n",
            "Total params: 4,050,845\n",
            "Trainable params: 1,281\n",
            "Non-trainable params: 4,049,564\n",
            "_________________________________________________________________\n"
          ]
        }
      ]
    },
    {
      "cell_type": "code",
      "source": [
        "pd.DataFrame(efficientnet_history.history).plot(figsize = (10,10))"
      ],
      "metadata": {
        "colab": {
          "base_uri": "https://localhost:8080/",
          "height": 610
        },
        "id": "VnL32W6Ly49_",
        "outputId": "29fcc654-fa0a-46cf-a4e6-d95e6fe9d257"
      },
      "execution_count": 18,
      "outputs": [
        {
          "output_type": "execute_result",
          "data": {
            "text/plain": [
              "<matplotlib.axes._subplots.AxesSubplot at 0x7f29d6e32890>"
            ]
          },
          "metadata": {},
          "execution_count": 18
        },
        {
          "output_type": "display_data",
          "data": {
            "image/png": "[encoded data removed]",
            "text/plain": [
              "<Figure size 720x720 with 1 Axes>"
            ]
          },
          "metadata": {
            "needs_background": "light"
          }
        }
      ]
    },
    {
      "cell_type": "markdown",
      "source": [
        "# Model2: efficientnetB0\n",
        "\n",
        "* Augmentation"
      ],
      "metadata": {
        "id": "VyiXbMWIzN1v"
      }
    },
    {
      "cell_type": "code",
      "source": [
        "efficientnet_url = \"https://tfhub.dev/tensorflow/efficientnet/b0/feature-vector/1\""
      ],
      "metadata": {
        "id": "FZQscJA3zIhP"
      },
      "execution_count": 19,
      "outputs": []
    },
    {
      "cell_type": "code",
      "source": [
        "import tensorflow_hub as hub\n",
        "from tensorflow.keras.models import Sequential\n",
        "from tensorflow.keras.layers import Dense\n",
        "\n",
        "feature_extracted_layer2 = hub.KerasLayer(efficientnet_url, trainable = False, input_shape = input_shape)\n",
        "\n",
        "model2 = Sequential()\n",
        "model2.add(feature_extracted_layer2)\n",
        "model2.add(Dense(1, activation='sigmoid'))\n",
        "\n",
        "model2.compile(loss = tf.keras.losses.binary_crossentropy, optimizer = tf.keras.optimizers.Adam(), metrics = 'accuracy')\n",
        "\n",
        "efficientnet_history1 = model2.fit(train_data_augmented, epochs = 20, steps_per_epoch=len(train_data_augmented), \n",
        "                                   validation_data = test_data_augmented, validation_steps=len(test_data_augmented))"
      ],
      "metadata": {
        "colab": {
          "base_uri": "https://localhost:8080/"
        },
        "id": "oWx9fcxhzfLn",
        "outputId": "153b24f8-939d-402e-846f-ad83cfa9deb3"
      },
      "execution_count": 20,
      "outputs": [
        {
          "output_type": "stream",
          "name": "stdout",
          "text": [
            "Epoch 1/20\n",
            "82/82 [==============================] - 115s 1s/step - loss: 0.1868 - accuracy: 0.9712 - val_loss: 0.0902 - val_accuracy: 0.9775\n",
            "Epoch 2/20\n",
            "82/82 [==============================] - 105s 1s/step - loss: 0.0621 - accuracy: 0.9873 - val_loss: 0.0618 - val_accuracy: 0.9825\n",
            "Epoch 3/20\n",
            "82/82 [==============================] - 107s 1s/step - loss: 0.0433 - accuracy: 0.9908 - val_loss: 0.0511 - val_accuracy: 0.9825\n",
            "Epoch 4/20\n",
            "82/82 [==============================] - 109s 1s/step - loss: 0.0332 - accuracy: 0.9919 - val_loss: 0.0458 - val_accuracy: 0.9800\n",
            "Epoch 5/20\n",
            "82/82 [==============================] - 106s 1s/step - loss: 0.0286 - accuracy: 0.9931 - val_loss: 0.0468 - val_accuracy: 0.9825\n",
            "Epoch 6/20\n",
            "82/82 [==============================] - 107s 1s/step - loss: 0.0275 - accuracy: 0.9915 - val_loss: 0.0415 - val_accuracy: 0.9850\n",
            "Epoch 7/20\n",
            "82/82 [==============================] - 107s 1s/step - loss: 0.0263 - accuracy: 0.9923 - val_loss: 0.0410 - val_accuracy: 0.9825\n",
            "Epoch 8/20\n",
            "82/82 [==============================] - 106s 1s/step - loss: 0.0201 - accuracy: 0.9962 - val_loss: 0.0415 - val_accuracy: 0.9825\n",
            "Epoch 9/20\n",
            "82/82 [==============================] - 106s 1s/step - loss: 0.0214 - accuracy: 0.9942 - val_loss: 0.0389 - val_accuracy: 0.9875\n",
            "Epoch 10/20\n",
            "82/82 [==============================] - 109s 1s/step - loss: 0.0181 - accuracy: 0.9962 - val_loss: 0.0389 - val_accuracy: 0.9850\n",
            "Epoch 11/20\n",
            "82/82 [==============================] - 110s 1s/step - loss: 0.0167 - accuracy: 0.9962 - val_loss: 0.0386 - val_accuracy: 0.9875\n",
            "Epoch 12/20\n",
            "82/82 [==============================] - 109s 1s/step - loss: 0.0175 - accuracy: 0.9942 - val_loss: 0.0396 - val_accuracy: 0.9850\n",
            "Epoch 13/20\n",
            "82/82 [==============================] - 108s 1s/step - loss: 0.0162 - accuracy: 0.9962 - val_loss: 0.0395 - val_accuracy: 0.9850\n",
            "Epoch 14/20\n",
            "82/82 [==============================] - 109s 1s/step - loss: 0.0156 - accuracy: 0.9973 - val_loss: 0.0411 - val_accuracy: 0.9875\n",
            "Epoch 15/20\n",
            "82/82 [==============================] - 109s 1s/step - loss: 0.0156 - accuracy: 0.9962 - val_loss: 0.0420 - val_accuracy: 0.9875\n",
            "Epoch 16/20\n",
            "82/82 [==============================] - 109s 1s/step - loss: 0.0135 - accuracy: 0.9973 - val_loss: 0.0414 - val_accuracy: 0.9875\n",
            "Epoch 17/20\n",
            "82/82 [==============================] - 108s 1s/step - loss: 0.0134 - accuracy: 0.9969 - val_loss: 0.0419 - val_accuracy: 0.9875\n",
            "Epoch 18/20\n",
            "82/82 [==============================] - 108s 1s/step - loss: 0.0135 - accuracy: 0.9969 - val_loss: 0.0419 - val_accuracy: 0.9875\n",
            "Epoch 19/20\n",
            "82/82 [==============================] - 109s 1s/step - loss: 0.0149 - accuracy: 0.9962 - val_loss: 0.0423 - val_accuracy: 0.9875\n",
            "Epoch 20/20\n",
            "82/82 [==============================] - 110s 1s/step - loss: 0.0124 - accuracy: 0.9973 - val_loss: 0.0428 - val_accuracy: 0.9875\n"
          ]
        }
      ]
    },
    {
      "cell_type": "code",
      "source": [
        "model2.summary()"
      ],
      "metadata": {
        "colab": {
          "base_uri": "https://localhost:8080/"
        },
        "id": "vrZlp7pp7yKC",
        "outputId": "8d128548-8c6e-47ad-ae2d-74ea544ea1a0"
      },
      "execution_count": 21,
      "outputs": [
        {
          "output_type": "stream",
          "name": "stdout",
          "text": [
            "Model: \"sequential_1\"\n",
            "_________________________________________________________________\n",
            " Layer (type)                Output Shape              Param #   \n",
            "=================================================================\n",
            " keras_layer_1 (KerasLayer)  (None, 1280)              4049564   \n",
            "                                                                 \n",
            " dense_1 (Dense)             (None, 1)                 1281      \n",
            "                                                                 \n",
            "=================================================================\n",
            "Total params: 4,050,845\n",
            "Trainable params: 1,281\n",
            "Non-trainable params: 4,049,564\n",
            "_________________________________________________________________\n"
          ]
        }
      ]
    },
    {
      "cell_type": "code",
      "source": [
        "model2.evaluate(test_data_augmented)"
      ],
      "metadata": {
        "colab": {
          "base_uri": "https://localhost:8080/"
        },
        "id": "M3l-LRdv71vj",
        "outputId": "3164144d-34fa-4c81-8323-b34ff82139a3"
      },
      "execution_count": 22,
      "outputs": [
        {
          "output_type": "stream",
          "name": "stdout",
          "text": [
            "13/13 [==============================] - 5s 335ms/step - loss: 0.0428 - accuracy: 0.9875\n"
          ]
        },
        {
          "output_type": "execute_result",
          "data": {
            "text/plain": [
              "[0.042797304689884186, 0.987500011920929]"
            ]
          },
          "metadata": {},
          "execution_count": 22
        }
      ]
    },
    {
      "cell_type": "code",
      "source": [
        "pd.DataFrame(efficientnet_history1.history).plot(figsize = (10,10))"
      ],
      "metadata": {
        "colab": {
          "base_uri": "https://localhost:8080/",
          "height": 610
        },
        "id": "gm2JrOrc8EDy",
        "outputId": "83c4a80f-db1d-40bf-e02d-a5955c431e4b"
      },
      "execution_count": 23,
      "outputs": [
        {
          "output_type": "execute_result",
          "data": {
            "text/plain": [
              "<matplotlib.axes._subplots.AxesSubplot at 0x7f29d6ce2690>"
            ]
          },
          "metadata": {},
          "execution_count": 23
        },
        {
          "output_type": "display_data",
          "data": {
            "image/png": "[encoded data removed]",
            "text/plain": [
              "<Figure size 720x720 with 1 Axes>"
            ]
          },
          "metadata": {
            "needs_background": "light"
          }
        }
      ]
    }
  ]
}