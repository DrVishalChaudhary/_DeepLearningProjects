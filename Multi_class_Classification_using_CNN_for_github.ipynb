{
  "nbformat": 4,
  "nbformat_minor": 0,
  "metadata": {
    "accelerator": "GPU",
    "colab": {
      "name": "Multi-class Classification using CNN for github.ipynb",
      "provenance": [],
      "collapsed_sections": [],
      "mount_file_id": "1srZMhVTQ8b7G0DN1RLFro06PGTg4_ryX",
      "authorship_tag": "ABX9TyP072fIceIlDNSoe84+prb8",
      "include_colab_link": true
    },
    "kernelspec": {
      "display_name": "Python 3",
      "name": "python3"
    },
    "language_info": {
      "name": "python"
    }
  },
  "cells": [
    {
      "cell_type": "markdown",
      "metadata": {
        "id": "view-in-github",
        "colab_type": "text"
      },
      "source": [
        "<a href=\"https://colab.research.google.com/github/DrVishalChaudhary/_DeepLearningProjects/blob/main/Multi_class_Classification_using_CNN_for_github.ipynb\" target=\"_parent\"><img src=\"https://colab.research.google.com/assets/colab-badge.svg\" alt=\"Open In Colab\"/></a>"
      ]
    },
    {
      "cell_type": "markdown",
      "metadata": {
        "id": "z6y9AKp9tFy0"
      },
      "source": [
        "# Multi-class Classification Problem - Supervised Learning\n",
        "\n",
        "* Classification between 10 food classes\n",
        "\n",
        "* CNN model will learn patterns during training\n",
        "\n",
        "* Accuracy depends on learning of model"
      ]
    },
    {
      "cell_type": "code",
      "metadata": {
        "id": "se56JlN6tqm7"
      },
      "source": [
        "# Library import\n",
        "\n",
        "import tensorflow as tf\n",
        "import numpy as np\n",
        "import matplotlib.pyplot as plt\n",
        "from matplotlib.image import imread\n",
        "import pandas as pd\n",
        "import os"
      ],
      "execution_count": null,
      "outputs": []
    },
    {
      "cell_type": "code",
      "metadata": {
        "id": "dUzIpZnsO6ln"
      },
      "source": [
        "data_dir = \"/content/drive/MyDrive/Colab Notebooks/food/10_food_classes_all_data\"\n",
        "\n",
        "train_data_path = data_dir + \"/train/\"\n",
        "test_data_path = data_dir + \"/test/\""
      ],
      "execution_count": null,
      "outputs": []
    },
    {
      "cell_type": "code",
      "metadata": {
        "colab": {
          "base_uri": "https://localhost:8080/"
        },
        "id": "i862XCrdf9zO",
        "outputId": "8a2d033a-6c54-4e59-cf59-e50f84a9149d"
      },
      "source": [
        "os.listdir(test_data_path)"
      ],
      "execution_count": null,
      "outputs": [
        {
          "output_type": "execute_result",
          "data": {
            "text/plain": [
              "['ice_cream',\n",
              " 'hamburger',\n",
              " 'sushi',\n",
              " 'ramen',\n",
              " 'pizza',\n",
              " 'steak',\n",
              " 'grilled_salmon',\n",
              " 'fried_rice',\n",
              " 'chicken_wings',\n",
              " 'chicken_curry']"
            ]
          },
          "metadata": {},
          "execution_count": 3
        }
      ]
    },
    {
      "cell_type": "markdown",
      "metadata": {
        "id": "O9tbyXmGnNqX"
      },
      "source": [
        "# Identifying Image Size"
      ]
    },
    {
      "cell_type": "code",
      "metadata": {
        "colab": {
          "base_uri": "https://localhost:8080/"
        },
        "id": "rXRLfZdKgGjm",
        "outputId": "9bbc4460-b00f-4973-9a46-9528dcff028b"
      },
      "source": [
        "!ls \"/content/drive/MyDrive/Colab Notebooks/food/10_food_classes_all_data/train/\""
      ],
      "execution_count": null,
      "outputs": [
        {
          "output_type": "stream",
          "name": "stdout",
          "text": [
            "chicken_curry  fried_rice      hamburger  pizza  steak\n",
            "chicken_wings  grilled_salmon  ice_cream  ramen  sushi\n"
          ]
        }
      ]
    },
    {
      "cell_type": "code",
      "metadata": {
        "id": "bowpIM3FnetG"
      },
      "source": [
        "# Average dimension for chicken_curry images\n",
        "first_dim = []\n",
        "second_dim = []\n",
        "for image_no in os.listdir(train_data_path + '/chicken_curry'):\n",
        "  img = imread(train_data_path + '/chicken_curry/'+ image_no)\n",
        "  d1,d2,d3 = img.shape\n",
        "  first_dim.append(d1)\n",
        "  second_dim.append(d2)"
      ],
      "execution_count": null,
      "outputs": []
    },
    {
      "cell_type": "code",
      "metadata": {
        "colab": {
          "base_uri": "https://localhost:8080/"
        },
        "id": "0nzZYtD4pByP",
        "outputId": "68277497-c2c9-4e7e-b9b9-7f2cda89e1ff"
      },
      "source": [
        "first_dim_mean = np.mean(first_dim)\n",
        "second_dim_mean = np.mean(second_dim)\n",
        "first_dim_mean, second_dim_mean"
      ],
      "execution_count": null,
      "outputs": [
        {
          "output_type": "execute_result",
          "data": {
            "text/plain": [
              "(477.34, 495.36133333333333)"
            ]
          },
          "metadata": {},
          "execution_count": 6
        }
      ]
    },
    {
      "cell_type": "code",
      "metadata": {
        "id": "TsC8pyCYpT8f"
      },
      "source": [
        "# Average dimension for ice_cream images\n",
        "first_dim = []\n",
        "second_dim = []\n",
        "for image_no in os.listdir(train_data_path + '/ice_cream'):\n",
        "  img = imread(train_data_path + '/ice_cream/'+ image_no)\n",
        "  d1,d2,d3 = img.shape\n",
        "  first_dim.append(d1)\n",
        "  second_dim.append(d2)"
      ],
      "execution_count": null,
      "outputs": []
    },
    {
      "cell_type": "code",
      "metadata": {
        "colab": {
          "base_uri": "https://localhost:8080/"
        },
        "id": "HIMIxwejq2Mv",
        "outputId": "95049d1a-2bb8-4f65-8789-dad638140c45"
      },
      "source": [
        "first_dim_mean = np.mean(first_dim)\n",
        "second_dim_mean = np.mean(second_dim)\n",
        "first_dim_mean, second_dim_mean"
      ],
      "execution_count": null,
      "outputs": [
        {
          "output_type": "execute_result",
          "data": {
            "text/plain": [
              "(480.456, 483.2986666666667)"
            ]
          },
          "metadata": {},
          "execution_count": 8
        }
      ]
    },
    {
      "cell_type": "code",
      "metadata": {
        "id": "JRI2lz78q9q_"
      },
      "source": [
        "# Average dimension for sushi images\n",
        "first_dim = []\n",
        "second_dim = []\n",
        "for image_no in os.listdir(train_data_path + '/sushi'):\n",
        "  img = imread(train_data_path + '/sushi/'+ image_no)\n",
        "  d1,d2,d3 = img.shape\n",
        "  first_dim.append(d1)\n",
        "  second_dim.append(d2)"
      ],
      "execution_count": null,
      "outputs": []
    },
    {
      "cell_type": "code",
      "metadata": {
        "colab": {
          "base_uri": "https://localhost:8080/"
        },
        "id": "B73cLDO5sd7P",
        "outputId": "e64de6ca-b86e-4b27-f1cb-588e935a89f4"
      },
      "source": [
        "first_dim_mean = np.mean(first_dim)\n",
        "second_dim_mean = np.mean(second_dim)\n",
        "first_dim_mean, second_dim_mean"
      ],
      "execution_count": null,
      "outputs": [
        {
          "output_type": "execute_result",
          "data": {
            "text/plain": [
              "(467.2373333333333, 491.752)"
            ]
          },
          "metadata": {},
          "execution_count": 10
        }
      ]
    },
    {
      "cell_type": "code",
      "metadata": {
        "id": "MeWuHs8rtiLW"
      },
      "source": [
        "# Average dimension for ramen images\n",
        "first_dim = []\n",
        "second_dim = []\n",
        "for image_no in os.listdir(train_data_path + '/ramen'):\n",
        "  img = imread(train_data_path + '/ramen/'+ image_no)\n",
        "  d1,d2,d3 = img.shape\n",
        "  first_dim.append(d1)\n",
        "  second_dim.append(d2)"
      ],
      "execution_count": null,
      "outputs": []
    },
    {
      "cell_type": "code",
      "metadata": {
        "colab": {
          "base_uri": "https://localhost:8080/"
        },
        "id": "f3YMwSmGu-4H",
        "outputId": "d87cb9d9-97fc-4884-cfcf-9328668229b5"
      },
      "source": [
        "first_dim_mean = np.mean(first_dim)\n",
        "second_dim_mean = np.mean(second_dim)\n",
        "first_dim_mean, second_dim_mean"
      ],
      "execution_count": null,
      "outputs": [
        {
          "output_type": "execute_result",
          "data": {
            "text/plain": [
              "(472.13733333333334, 491.38933333333335)"
            ]
          },
          "metadata": {},
          "execution_count": 13
        }
      ]
    },
    {
      "cell_type": "code",
      "metadata": {
        "colab": {
          "base_uri": "https://localhost:8080/"
        },
        "id": "vtK7J3-uvY8-",
        "outputId": "0830f3da-24ce-44ff-d497-742dc06f7ec8"
      },
      "source": [
        "(477.34 + 480.456 + 467.23 + 472.13)/4"
      ],
      "execution_count": null,
      "outputs": [
        {
          "output_type": "execute_result",
          "data": {
            "text/plain": [
              "474.289"
            ]
          },
          "metadata": {},
          "execution_count": 12
        }
      ]
    },
    {
      "cell_type": "code",
      "metadata": {
        "colab": {
          "base_uri": "https://localhost:8080/"
        },
        "id": "fgmKPOUnv3Pw",
        "outputId": "9a5bae01-9efd-4884-a8e2-525405c994f6"
      },
      "source": [
        "(495.361 + 483.29 + 491.752 + 491.38)/4"
      ],
      "execution_count": null,
      "outputs": [
        {
          "output_type": "execute_result",
          "data": {
            "text/plain": [
              "490.44575"
            ]
          },
          "metadata": {},
          "execution_count": 14
        }
      ]
    },
    {
      "cell_type": "code",
      "metadata": {
        "colab": {
          "base_uri": "https://localhost:8080/"
        },
        "id": "qNi3z_gZwGmn",
        "outputId": "668fcfca-9f35-44c8-9122-58a54543694f"
      },
      "source": [
        "input_shape = (474, 490, 3)\n",
        "input_shape"
      ],
      "execution_count": null,
      "outputs": [
        {
          "output_type": "execute_result",
          "data": {
            "text/plain": [
              "(474, 490, 3)"
            ]
          },
          "metadata": {},
          "execution_count": 5
        }
      ]
    },
    {
      "cell_type": "markdown",
      "metadata": {
        "id": "d2-cjBKSwrHO"
      },
      "source": [
        "# Augmented and Non-augmented data\n",
        "\n",
        "* train_data and test_data: Non-augmented data\n",
        "\n",
        "* train_data_augmented and test_data_augmented: Augmented data"
      ]
    },
    {
      "cell_type": "code",
      "metadata": {
        "colab": {
          "base_uri": "https://localhost:8080/"
        },
        "id": "SxObFo-LwOCX",
        "outputId": "899f355d-4397-46ef-e324-411bbe65ec51"
      },
      "source": [
        "#Train and Test data \n",
        "from tensorflow.keras.preprocessing.image import ImageDataGenerator\n",
        "\n",
        "train_datagen = ImageDataGenerator(rescale = 1/255.)\n",
        "test_datagen = ImageDataGenerator(rescale = 1/255.)\n",
        "\n",
        "train_data = train_datagen.flow_from_directory(train_data_path, target_size=(474, 490), batch_size=32, class_mode='categorical')\n",
        "test_data = test_datagen.flow_from_directory(test_data_path, target_size=(474, 490), batch_size=32, class_mode='categorical')"
      ],
      "execution_count": null,
      "outputs": [
        {
          "output_type": "stream",
          "name": "stdout",
          "text": [
            "Found 7510 images belonging to 10 classes.\n",
            "Found 2500 images belonging to 10 classes.\n"
          ]
        }
      ]
    },
    {
      "cell_type": "code",
      "metadata": {
        "colab": {
          "base_uri": "https://localhost:8080/"
        },
        "id": "uFdw2snAz7J3",
        "outputId": "9c390ef6-c094-48dc-f24a-c3347bd58aac"
      },
      "source": [
        "# Train and Test data with augmentation\n",
        "from tensorflow.keras.preprocessing.image import ImageDataGenerator\n",
        "\n",
        "train_datagen_augmented = ImageDataGenerator(rescale = 1/255., rotation_range=0.2, shear_range=0.2, zoom_range=0.2, \n",
        "                                                    width_shift_range=0.2, height_shift_range=0.2, horizontal_flip=True)\n",
        "test_datagen_augmented = ImageDataGenerator(rescale = 1/255.)\n",
        "\n",
        "train_data_augmented = train_datagen_augmented.flow_from_directory(train_data_path, target_size=(474, 490), batch_size=32, class_mode='categorical')\n",
        "test_data_augmented = test_datagen_augmented.flow_from_directory(test_data_path, target_size=(474, 490), batch_size=32, class_mode='categorical')"
      ],
      "execution_count": null,
      "outputs": [
        {
          "output_type": "stream",
          "name": "stdout",
          "text": [
            "Found 7510 images belonging to 10 classes.\n",
            "Found 2500 images belonging to 10 classes.\n"
          ]
        }
      ]
    },
    {
      "cell_type": "markdown",
      "metadata": {
        "id": "oawIdNRy08FA"
      },
      "source": [
        "# Model1: 16, 32, 32, 64\n",
        "\n",
        "* Filters: 16, 32, 32, 64\n",
        "\n",
        "* Dense: 128, 10\n",
        "\n",
        "* Activation: Relu and Softmax\n",
        "\n",
        "* Optimizer: Adam with defauls learning rate\n",
        "\n",
        "* Metric: Accuracy\n",
        "\n",
        "* No augmentation"
      ]
    },
    {
      "cell_type": "code",
      "metadata": {
        "colab": {
          "base_uri": "https://localhost:8080/"
        },
        "id": "2Fdio0U_071H",
        "outputId": "c350a6bd-c662-4e03-9051-1a2a6588f004"
      },
      "source": [
        "from tensorflow.keras.models import Sequential\n",
        "from tensorflow.keras.layers import Conv2D, MaxPool2D, Dense, Flatten\n",
        "\n",
        "tf.random.set_seed(42)\n",
        "\n",
        "model1 = Sequential()\n",
        "model1.add(Conv2D(16, 3, input_shape = input_shape, activation = 'relu'))\n",
        "model1.add(MaxPool2D())\n",
        "model1.add(Conv2D(32, 3, activation = 'relu'))\n",
        "model1.add(MaxPool2D())\n",
        "model1.add(Conv2D(32, 3, activation = 'relu'))\n",
        "model1.add(MaxPool2D())\n",
        "model1.add(Conv2D(64, 3, activation = 'relu'))\n",
        "model1.add(MaxPool2D())\n",
        "\n",
        "model1.add(Flatten())\n",
        "model1.add(Dense(128, activation = 'relu'))\n",
        "model1.add(Dense(10, 'softmax'))\n",
        "\n",
        "model1.compile(loss = 'categorical_crossentropy', optimizer = tf.keras.optimizers.Adam(), metrics = 'accuracy')\n",
        "model1.fit(train_data, epochs = 50, steps_per_epoch = len(train_data), validation_data = test_data, validation_steps = len(test_data))"
      ],
      "execution_count": null,
      "outputs": [
        {
          "name": "stdout",
          "output_type": "stream",
          "text": [
            "Epoch 1/50\n",
            "235/235 [==============================] - 2126s 9s/step - loss: 2.1140 - accuracy: 0.2322 - val_loss: 1.9594 - val_accuracy: 0.3012\n",
            "Epoch 2/50\n",
            "235/235 [==============================] - 102s 433ms/step - loss: 1.8656 - accuracy: 0.3471 - val_loss: 1.9011 - val_accuracy: 0.3384\n",
            "Epoch 3/50\n",
            "235/235 [==============================] - 103s 437ms/step - loss: 1.6881 - accuracy: 0.4274 - val_loss: 1.7322 - val_accuracy: 0.4116\n",
            "Epoch 4/50\n",
            "235/235 [==============================] - 102s 434ms/step - loss: 1.3797 - accuracy: 0.5290 - val_loss: 1.7604 - val_accuracy: 0.4044\n",
            "Epoch 5/50\n",
            "235/235 [==============================] - 102s 434ms/step - loss: 0.9233 - accuracy: 0.6909 - val_loss: 2.0781 - val_accuracy: 0.3828\n",
            "Epoch 6/50\n",
            "235/235 [==============================] - 103s 436ms/step - loss: 0.4849 - accuracy: 0.8413 - val_loss: 2.7210 - val_accuracy: 0.3864\n",
            "Epoch 7/50\n",
            "235/235 [==============================] - 103s 437ms/step - loss: 0.2007 - accuracy: 0.9378 - val_loss: 3.8196 - val_accuracy: 0.3816\n",
            "Epoch 8/50\n",
            "235/235 [==============================] - 103s 436ms/step - loss: 0.1196 - accuracy: 0.9603 - val_loss: 4.1734 - val_accuracy: 0.3816\n",
            "Epoch 9/50\n",
            "235/235 [==============================] - 103s 436ms/step - loss: 0.0893 - accuracy: 0.9727 - val_loss: 4.7243 - val_accuracy: 0.3740\n",
            "Epoch 10/50\n",
            "235/235 [==============================] - 103s 437ms/step - loss: 0.0663 - accuracy: 0.9808 - val_loss: 5.0522 - val_accuracy: 0.3736\n",
            "Epoch 11/50\n",
            "235/235 [==============================] - 103s 436ms/step - loss: 0.0586 - accuracy: 0.9818 - val_loss: 4.8389 - val_accuracy: 0.3692\n",
            "Epoch 12/50\n",
            "235/235 [==============================] - 103s 439ms/step - loss: 0.0588 - accuracy: 0.9836 - val_loss: 6.1631 - val_accuracy: 0.3540\n",
            "Epoch 13/50\n",
            "235/235 [==============================] - 103s 438ms/step - loss: 0.0744 - accuracy: 0.9775 - val_loss: 5.3012 - val_accuracy: 0.3628\n",
            "Epoch 14/50\n",
            "235/235 [==============================] - 100s 426ms/step - loss: 0.0229 - accuracy: 0.9933 - val_loss: 5.7141 - val_accuracy: 0.3792\n",
            "Epoch 15/50\n",
            "235/235 [==============================] - 100s 424ms/step - loss: 0.0079 - accuracy: 0.9977 - val_loss: 6.1162 - val_accuracy: 0.3644\n",
            "Epoch 16/50\n",
            "235/235 [==============================] - 98s 417ms/step - loss: 0.0019 - accuracy: 0.9996 - val_loss: 6.4785 - val_accuracy: 0.3768\n",
            "Epoch 17/50\n",
            "235/235 [==============================] - 98s 417ms/step - loss: 2.8641e-04 - accuracy: 1.0000 - val_loss: 6.7257 - val_accuracy: 0.3764\n",
            "Epoch 18/50\n",
            "235/235 [==============================] - 98s 417ms/step - loss: 1.3996e-04 - accuracy: 1.0000 - val_loss: 6.8966 - val_accuracy: 0.3752\n",
            "Epoch 19/50\n",
            "235/235 [==============================] - 97s 412ms/step - loss: 1.0222e-04 - accuracy: 1.0000 - val_loss: 7.0283 - val_accuracy: 0.3780\n",
            "Epoch 20/50\n",
            "235/235 [==============================] - 96s 410ms/step - loss: 7.9443e-05 - accuracy: 1.0000 - val_loss: 7.1443 - val_accuracy: 0.3792\n",
            "Epoch 21/50\n",
            "235/235 [==============================] - 98s 415ms/step - loss: 6.3919e-05 - accuracy: 1.0000 - val_loss: 7.2531 - val_accuracy: 0.3804\n",
            "Epoch 22/50\n",
            "235/235 [==============================] - 97s 411ms/step - loss: 5.2529e-05 - accuracy: 1.0000 - val_loss: 7.3564 - val_accuracy: 0.3792\n",
            "Epoch 23/50\n",
            "235/235 [==============================] - 98s 415ms/step - loss: 4.3725e-05 - accuracy: 1.0000 - val_loss: 7.4537 - val_accuracy: 0.3792\n",
            "Epoch 24/50\n",
            "235/235 [==============================] - 97s 413ms/step - loss: 3.6740e-05 - accuracy: 1.0000 - val_loss: 7.5421 - val_accuracy: 0.3788\n",
            "Epoch 25/50\n",
            "235/235 [==============================] - 97s 414ms/step - loss: 3.1102e-05 - accuracy: 1.0000 - val_loss: 7.6355 - val_accuracy: 0.3804\n",
            "Epoch 26/50\n",
            "235/235 [==============================] - 97s 414ms/step - loss: 2.6515e-05 - accuracy: 1.0000 - val_loss: 7.7210 - val_accuracy: 0.3812\n",
            "Epoch 27/50\n",
            "235/235 [==============================] - 98s 416ms/step - loss: 2.2717e-05 - accuracy: 1.0000 - val_loss: 7.8070 - val_accuracy: 0.3808\n",
            "Epoch 28/50\n",
            "235/235 [==============================] - 98s 416ms/step - loss: 1.9534e-05 - accuracy: 1.0000 - val_loss: 7.8944 - val_accuracy: 0.3812\n",
            "Epoch 29/50\n",
            "235/235 [==============================] - 98s 415ms/step - loss: 1.6871e-05 - accuracy: 1.0000 - val_loss: 7.9766 - val_accuracy: 0.3812\n",
            "Epoch 30/50\n",
            "235/235 [==============================] - 99s 419ms/step - loss: 1.4567e-05 - accuracy: 1.0000 - val_loss: 8.0618 - val_accuracy: 0.3820\n",
            "Epoch 31/50\n",
            "235/235 [==============================] - 98s 418ms/step - loss: 1.2626e-05 - accuracy: 1.0000 - val_loss: 8.1456 - val_accuracy: 0.3824\n",
            "Epoch 32/50\n",
            "235/235 [==============================] - 96s 409ms/step - loss: 1.0946e-05 - accuracy: 1.0000 - val_loss: 8.2239 - val_accuracy: 0.3824\n",
            "Epoch 33/50\n",
            "235/235 [==============================] - 96s 409ms/step - loss: 9.5230e-06 - accuracy: 1.0000 - val_loss: 8.3017 - val_accuracy: 0.3828\n",
            "Epoch 34/50\n",
            "235/235 [==============================] - 97s 413ms/step - loss: 8.2809e-06 - accuracy: 1.0000 - val_loss: 8.3863 - val_accuracy: 0.3832\n",
            "Epoch 35/50\n",
            "235/235 [==============================] - 99s 421ms/step - loss: 7.2201e-06 - accuracy: 1.0000 - val_loss: 8.4647 - val_accuracy: 0.3832\n",
            "Epoch 36/50\n",
            "235/235 [==============================] - 98s 416ms/step - loss: 6.2937e-06 - accuracy: 1.0000 - val_loss: 8.5474 - val_accuracy: 0.3836\n",
            "Epoch 37/50\n",
            "235/235 [==============================] - 99s 421ms/step - loss: 5.4914e-06 - accuracy: 1.0000 - val_loss: 8.6202 - val_accuracy: 0.3836\n",
            "Epoch 38/50\n",
            "235/235 [==============================] - 99s 420ms/step - loss: 4.7983e-06 - accuracy: 1.0000 - val_loss: 8.7025 - val_accuracy: 0.3840\n",
            "Epoch 39/50\n",
            "235/235 [==============================] - 99s 422ms/step - loss: 4.1946e-06 - accuracy: 1.0000 - val_loss: 8.7799 - val_accuracy: 0.3840\n",
            "Epoch 40/50\n",
            "235/235 [==============================] - 99s 420ms/step - loss: 3.6617e-06 - accuracy: 1.0000 - val_loss: 8.8626 - val_accuracy: 0.3848\n",
            "Epoch 41/50\n",
            "235/235 [==============================] - 97s 412ms/step - loss: 3.2025e-06 - accuracy: 1.0000 - val_loss: 8.9402 - val_accuracy: 0.3852\n",
            "Epoch 42/50\n",
            "235/235 [==============================] - 98s 415ms/step - loss: 2.8111e-06 - accuracy: 1.0000 - val_loss: 9.0140 - val_accuracy: 0.3872\n",
            "Epoch 43/50\n",
            "235/235 [==============================] - 99s 419ms/step - loss: 2.4585e-06 - accuracy: 1.0000 - val_loss: 9.0929 - val_accuracy: 0.3876\n",
            "Epoch 44/50\n",
            "235/235 [==============================] - 100s 425ms/step - loss: 2.1505e-06 - accuracy: 1.0000 - val_loss: 9.1741 - val_accuracy: 0.3880\n",
            "Epoch 45/50\n",
            "235/235 [==============================] - 101s 431ms/step - loss: 1.8801e-06 - accuracy: 1.0000 - val_loss: 9.2529 - val_accuracy: 0.3872\n",
            "Epoch 46/50\n",
            "235/235 [==============================] - 101s 429ms/step - loss: 1.6470e-06 - accuracy: 1.0000 - val_loss: 9.3246 - val_accuracy: 0.3872\n",
            "Epoch 47/50\n",
            "235/235 [==============================] - 103s 440ms/step - loss: 1.4421e-06 - accuracy: 1.0000 - val_loss: 9.4023 - val_accuracy: 0.3876\n",
            "Epoch 48/50\n",
            "235/235 [==============================] - 100s 425ms/step - loss: 1.2628e-06 - accuracy: 1.0000 - val_loss: 9.4835 - val_accuracy: 0.3876\n",
            "Epoch 49/50\n",
            "235/235 [==============================] - 99s 421ms/step - loss: 1.1054e-06 - accuracy: 1.0000 - val_loss: 9.5633 - val_accuracy: 0.3880\n",
            "Epoch 50/50\n",
            "235/235 [==============================] - 98s 416ms/step - loss: 9.7086e-07 - accuracy: 1.0000 - val_loss: 9.6356 - val_accuracy: 0.3876\n"
          ]
        },
        {
          "data": {
            "text/plain": [
              "<keras.callbacks.History at 0x7f8eb84d9250>"
            ]
          },
          "execution_count": 12,
          "metadata": {},
          "output_type": "execute_result"
        }
      ]
    },
    {
      "cell_type": "code",
      "metadata": {
        "colab": {
          "base_uri": "https://localhost:8080/"
        },
        "id": "nr8uHdUZ2kdB",
        "outputId": "018703bc-f703-4f48-cc96-d284d3818cd6"
      },
      "source": [
        "model1.summary()"
      ],
      "execution_count": null,
      "outputs": [
        {
          "name": "stdout",
          "output_type": "stream",
          "text": [
            "Model: \"sequential\"\n",
            "_________________________________________________________________\n",
            "Layer (type)                 Output Shape              Param #   \n",
            "=================================================================\n",
            "conv2d (Conv2D)              (None, 472, 488, 16)      448       \n",
            "_________________________________________________________________\n",
            "max_pooling2d (MaxPooling2D) (None, 236, 244, 16)      0         \n",
            "_________________________________________________________________\n",
            "conv2d_1 (Conv2D)            (None, 234, 242, 32)      4640      \n",
            "_________________________________________________________________\n",
            "max_pooling2d_1 (MaxPooling2 (None, 117, 121, 32)      0         \n",
            "_________________________________________________________________\n",
            "conv2d_2 (Conv2D)            (None, 115, 119, 32)      9248      \n",
            "_________________________________________________________________\n",
            "max_pooling2d_2 (MaxPooling2 (None, 57, 59, 32)        0         \n",
            "_________________________________________________________________\n",
            "conv2d_3 (Conv2D)            (None, 55, 57, 64)        18496     \n",
            "_________________________________________________________________\n",
            "max_pooling2d_3 (MaxPooling2 (None, 27, 28, 64)        0         \n",
            "_________________________________________________________________\n",
            "flatten (Flatten)            (None, 48384)             0         \n",
            "_________________________________________________________________\n",
            "dense (Dense)                (None, 128)               6193280   \n",
            "_________________________________________________________________\n",
            "dense_1 (Dense)              (None, 10)                1290      \n",
            "=================================================================\n",
            "Total params: 6,227,402\n",
            "Trainable params: 6,227,402\n",
            "Non-trainable params: 0\n",
            "_________________________________________________________________\n"
          ]
        }
      ]
    },
    {
      "cell_type": "code",
      "metadata": {
        "colab": {
          "base_uri": "https://localhost:8080/",
          "height": 609
        },
        "id": "TjibGLwNATZD",
        "outputId": "471933b2-ba14-4c93-dfb3-e3cb962b6a9d"
      },
      "source": [
        "pd.DataFrame(model1.history.history).plot(figsize = (10,10))"
      ],
      "execution_count": null,
      "outputs": [
        {
          "data": {
            "text/plain": [
              "<matplotlib.axes._subplots.AxesSubplot at 0x7f8e6821bed0>"
            ]
          },
          "execution_count": 14,
          "metadata": {},
          "output_type": "execute_result"
        },
        {
          "data": {
            "image/png": "[encoded data removed]",
            "text/plain": [
              "<Figure size 720x720 with 1 Axes>"
            ]
          },
          "metadata": {},
          "output_type": "display_data"
        }
      ]
    },
    {
      "cell_type": "code",
      "metadata": {
        "colab": {
          "base_uri": "https://localhost:8080/"
        },
        "id": "Mr2PUivFAcfy",
        "outputId": "4b76394a-5c68-41f4-8576-3fc8a68f10c3"
      },
      "source": [
        "model1.evaluate(test_data)"
      ],
      "execution_count": null,
      "outputs": [
        {
          "name": "stdout",
          "output_type": "stream",
          "text": [
            "79/79 [==============================] - 23s 290ms/step - loss: 9.6356 - accuracy: 0.3876\n"
          ]
        },
        {
          "data": {
            "text/plain": [
              "[9.63555908203125, 0.38760000467300415]"
            ]
          },
          "execution_count": 15,
          "metadata": {},
          "output_type": "execute_result"
        }
      ]
    },
    {
      "cell_type": "markdown",
      "metadata": {
        "id": "OHuG9KmJfHeD"
      },
      "source": [
        "# Model2: 16, 32, 32, 64\n",
        "\n",
        "* Filters: 16, 32, 32, 64\n",
        "\n",
        "* Dense: 128, 10\n",
        "\n",
        "* Activation: Relu and Softmax\n",
        "\n",
        "* Optimizer: Adam with defauls learning rate\n",
        "\n",
        "* Metric: Accuracy\n",
        "\n",
        "* Augmentation"
      ]
    },
    {
      "cell_type": "code",
      "metadata": {
        "colab": {
          "base_uri": "https://localhost:8080/"
        },
        "id": "HRjXOJnzAhgC",
        "outputId": "a3b02808-c657-4071-ff34-4b8d61b0a217"
      },
      "source": [
        "from tensorflow.keras.models import Sequential\n",
        "from tensorflow.keras.layers import Conv2D, MaxPool2D, Dense, Flatten\n",
        "\n",
        "tf.random.set_seed(42)\n",
        "\n",
        "model2 = Sequential()\n",
        "model2.add(Conv2D(16, 3, input_shape = input_shape, activation = 'relu'))\n",
        "model2.add(MaxPool2D())\n",
        "model2.add(Conv2D(32, 3, activation = 'relu'))\n",
        "model2.add(MaxPool2D())\n",
        "model2.add(Conv2D(32, 3, activation = 'relu'))\n",
        "model2.add(MaxPool2D())\n",
        "model2.add(Conv2D(64, 3, activation = 'relu'))\n",
        "model2.add(MaxPool2D())\n",
        "\n",
        "model2.add(Flatten())\n",
        "model2.add(Dense(128, activation = 'relu'))\n",
        "model2.add(Dense(10, 'softmax'))\n",
        "\n",
        "model2.compile(loss = 'categorical_crossentropy', optimizer = tf.keras.optimizers.Adam(), metrics = 'accuracy')\n",
        "model2.fit(train_data_augmented, epochs = 25, steps_per_epoch = len(train_data_augmented), validation_data = test_data_augmented, validation_steps = len(test_data_augmented))"
      ],
      "execution_count": null,
      "outputs": [
        {
          "output_type": "stream",
          "name": "stdout",
          "text": [
            "Epoch 1/25\n",
            "235/235 [==============================] - 2820s 12s/step - loss: 2.1748 - accuracy: 0.1999 - val_loss: 1.9856 - val_accuracy: 0.2912\n",
            "Epoch 2/25\n",
            "235/235 [==============================] - 420s 2s/step - loss: 1.9890 - accuracy: 0.2944 - val_loss: 1.7726 - val_accuracy: 0.3892\n",
            "Epoch 3/25\n",
            "235/235 [==============================] - 417s 2s/step - loss: 1.9132 - accuracy: 0.3398 - val_loss: 1.7702 - val_accuracy: 0.3956\n",
            "Epoch 4/25\n",
            "235/235 [==============================] - 435s 2s/step - loss: 1.8424 - accuracy: 0.3609 - val_loss: 1.6583 - val_accuracy: 0.4404\n",
            "Epoch 5/25\n",
            "235/235 [==============================] - 460s 2s/step - loss: 1.8050 - accuracy: 0.3748 - val_loss: 1.6666 - val_accuracy: 0.4368\n",
            "Epoch 6/25\n",
            "235/235 [==============================] - 442s 2s/step - loss: 1.7550 - accuracy: 0.3981 - val_loss: 1.6287 - val_accuracy: 0.4324\n",
            "Epoch 7/25\n",
            "235/235 [==============================] - 439s 2s/step - loss: 1.7095 - accuracy: 0.4152 - val_loss: 1.6171 - val_accuracy: 0.4596\n",
            "Epoch 8/25\n",
            "235/235 [==============================] - 441s 2s/step - loss: 1.6970 - accuracy: 0.4190 - val_loss: 1.5297 - val_accuracy: 0.4836\n",
            "Epoch 9/25\n",
            "235/235 [==============================] - 436s 2s/step - loss: 1.6366 - accuracy: 0.4427 - val_loss: 1.4504 - val_accuracy: 0.5256\n",
            "Epoch 10/25\n",
            "235/235 [==============================] - 442s 2s/step - loss: 1.6035 - accuracy: 0.4590 - val_loss: 1.4657 - val_accuracy: 0.5168\n",
            "Epoch 11/25\n",
            "235/235 [==============================] - 437s 2s/step - loss: 1.5814 - accuracy: 0.4617 - val_loss: 1.4228 - val_accuracy: 0.5280\n",
            "Epoch 12/25\n",
            "235/235 [==============================] - 451s 2s/step - loss: 1.5422 - accuracy: 0.4800 - val_loss: 1.3641 - val_accuracy: 0.5584\n",
            "Epoch 13/25\n",
            "235/235 [==============================] - 466s 2s/step - loss: 1.4896 - accuracy: 0.5035 - val_loss: 1.3371 - val_accuracy: 0.5672\n",
            "Epoch 14/25\n",
            "235/235 [==============================] - 466s 2s/step - loss: 1.4322 - accuracy: 0.5253 - val_loss: 1.3031 - val_accuracy: 0.5644\n",
            "Epoch 15/25\n",
            "235/235 [==============================] - 464s 2s/step - loss: 1.4359 - accuracy: 0.5169 - val_loss: 1.3222 - val_accuracy: 0.5640\n",
            "Epoch 16/25\n",
            "235/235 [==============================] - 431s 2s/step - loss: 1.3965 - accuracy: 0.5366 - val_loss: 1.2618 - val_accuracy: 0.5796\n",
            "Epoch 17/25\n",
            "235/235 [==============================] - 428s 2s/step - loss: 1.3594 - accuracy: 0.5549 - val_loss: 1.2932 - val_accuracy: 0.5672\n",
            "Epoch 18/25\n",
            "235/235 [==============================] - 420s 2s/step - loss: 1.3231 - accuracy: 0.5654 - val_loss: 1.2007 - val_accuracy: 0.6128\n",
            "Epoch 19/25\n",
            "235/235 [==============================] - 417s 2s/step - loss: 1.3061 - accuracy: 0.5710 - val_loss: 1.2280 - val_accuracy: 0.5896\n",
            "Epoch 20/25\n",
            "235/235 [==============================] - 423s 2s/step - loss: 1.2851 - accuracy: 0.5722 - val_loss: 1.2818 - val_accuracy: 0.5820\n",
            "Epoch 21/25\n",
            "235/235 [==============================] - 422s 2s/step - loss: 1.2552 - accuracy: 0.5755 - val_loss: 1.1194 - val_accuracy: 0.6312\n",
            "Epoch 22/25\n",
            "235/235 [==============================] - 414s 2s/step - loss: 1.2531 - accuracy: 0.5913 - val_loss: 1.1570 - val_accuracy: 0.6188\n",
            "Epoch 23/25\n",
            "235/235 [==============================] - 424s 2s/step - loss: 1.2221 - accuracy: 0.5977 - val_loss: 1.1334 - val_accuracy: 0.6308\n",
            "Epoch 24/25\n",
            "235/235 [==============================] - 433s 2s/step - loss: 1.2224 - accuracy: 0.5939 - val_loss: 1.1306 - val_accuracy: 0.6368\n",
            "Epoch 25/25\n",
            "235/235 [==============================] - 424s 2s/step - loss: 1.1931 - accuracy: 0.6001 - val_loss: 1.1886 - val_accuracy: 0.6208\n"
          ]
        },
        {
          "output_type": "execute_result",
          "data": {
            "text/plain": [
              "<keras.callbacks.History at 0x7fbf4d31bcd0>"
            ]
          },
          "metadata": {},
          "execution_count": 8
        }
      ]
    },
    {
      "cell_type": "code",
      "metadata": {
        "colab": {
          "base_uri": "https://localhost:8080/"
        },
        "id": "c0jyr-QsNyDz",
        "outputId": "a45fd8eb-f41d-4f8f-f41e-db8f8496d1a2"
      },
      "source": [
        "model2.summary()"
      ],
      "execution_count": null,
      "outputs": [
        {
          "output_type": "stream",
          "name": "stdout",
          "text": [
            "Model: \"sequential\"\n",
            "_________________________________________________________________\n",
            "Layer (type)                 Output Shape              Param #   \n",
            "=================================================================\n",
            "conv2d (Conv2D)              (None, 472, 488, 16)      448       \n",
            "_________________________________________________________________\n",
            "max_pooling2d (MaxPooling2D) (None, 236, 244, 16)      0         \n",
            "_________________________________________________________________\n",
            "conv2d_1 (Conv2D)            (None, 234, 242, 32)      4640      \n",
            "_________________________________________________________________\n",
            "max_pooling2d_1 (MaxPooling2 (None, 117, 121, 32)      0         \n",
            "_________________________________________________________________\n",
            "conv2d_2 (Conv2D)            (None, 115, 119, 32)      9248      \n",
            "_________________________________________________________________\n",
            "max_pooling2d_2 (MaxPooling2 (None, 57, 59, 32)        0         \n",
            "_________________________________________________________________\n",
            "conv2d_3 (Conv2D)            (None, 55, 57, 64)        18496     \n",
            "_________________________________________________________________\n",
            "max_pooling2d_3 (MaxPooling2 (None, 27, 28, 64)        0         \n",
            "_________________________________________________________________\n",
            "flatten (Flatten)            (None, 48384)             0         \n",
            "_________________________________________________________________\n",
            "dense (Dense)                (None, 128)               6193280   \n",
            "_________________________________________________________________\n",
            "dense_1 (Dense)              (None, 10)                1290      \n",
            "=================================================================\n",
            "Total params: 6,227,402\n",
            "Trainable params: 6,227,402\n",
            "Non-trainable params: 0\n",
            "_________________________________________________________________\n"
          ]
        }
      ]
    },
    {
      "cell_type": "code",
      "metadata": {
        "colab": {
          "base_uri": "https://localhost:8080/",
          "height": 609
        },
        "id": "x5EdG-JbOWdi",
        "outputId": "d500c0e0-1462-4bae-ddbe-0e68556db1a4"
      },
      "source": [
        "pd.DataFrame(model2.history.history).plot(figsize = (10,10))"
      ],
      "execution_count": null,
      "outputs": [
        {
          "output_type": "execute_result",
          "data": {
            "text/plain": [
              "<matplotlib.axes._subplots.AxesSubplot at 0x7fbefd159890>"
            ]
          },
          "metadata": {},
          "execution_count": 10
        },
        {
          "output_type": "display_data",
          "data": {
            "image/png": "[encoded data removed]",
            "text/plain": [
              "<Figure size 720x720 with 1 Axes>"
            ]
          },
          "metadata": {
            "needs_background": "light"
          }
        }
      ]
    },
    {
      "cell_type": "code",
      "metadata": {
        "colab": {
          "base_uri": "https://localhost:8080/"
        },
        "id": "Y26Lv9m4Ogn4",
        "outputId": "efbd8330-50a9-4c88-99b3-f9a176712e23"
      },
      "source": [
        "model2.evaluate(test_data)"
      ],
      "execution_count": null,
      "outputs": [
        {
          "output_type": "stream",
          "name": "stdout",
          "text": [
            "79/79 [==============================] - 23s 295ms/step - loss: 1.1886 - accuracy: 0.6208\n"
          ]
        },
        {
          "output_type": "execute_result",
          "data": {
            "text/plain": [
              "[1.1885669231414795, 0.6208000183105469]"
            ]
          },
          "metadata": {},
          "execution_count": 11
        }
      ]
    }
  ]
}